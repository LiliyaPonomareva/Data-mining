{
 "cells": [
  {
   "cell_type": "markdown",
   "metadata": {},
   "source": [
    "### РОССИЙСКИЙ УНИВЕРСИТЕТ ДРУЖБЫ НАРОДОВ\n",
    "#### Факультет физико-математических и естественных наук  \n",
    "#### Кафедра информационных технологий "
   ]
  },
  {
   "cell_type": "markdown",
   "metadata": {},
   "source": [
    "# ОТЧЕТ ПО ЛАБОРАТОРНОЙ РАБОТЕ № 7\n",
    "# Регрессия\n",
    "### Дисциплина: Интеллектуальный анализ данных"
   ]
  },
  {
   "cell_type": "markdown",
   "metadata": {},
   "source": [
    "##### Студент:  Пономарева Л. М.\n",
    "##### Группа:   НПИбд-02-19"
   ]
  },
  {
   "cell_type": "markdown",
   "metadata": {},
   "source": [
    "### Москва 2022"
   ]
  },
  {
   "cell_type": "markdown",
   "metadata": {},
   "source": [
    "#### Вариант 18 \n",
    "\n",
    "Cylinder Bands Data Set \n",
    "\n",
    "Название файла: bands.data \n",
    "\n",
    "Ссылка: http://archive.ics.uci.edu/ml/datasets/Cylinder+Bands \n",
    "\n",
    "Класс: band type (столбец No 40) \n",
    "\n",
    "Зависимая переменная: press speed (столбец No 29) \n",
    "\n",
    "Метод обработки пропущенных значений – медиана класса \n",
    "\n",
    "Метод обработки выбросов – алгоритм кластеризации OPTICS \n",
    "\n",
    "Метод снижения размерности данных – линейная регрессия (LinearRegression) \n",
    "\n",
    "Регрессоры: \n",
    "\n",
    "- Полиномиальная регрессия (PolynomialFeatures+LinearRegression), параметр degree в диапазоне от 2 до 5 \n",
    "\n",
    "- Регрессия эластичная сеть (ElasticNet), параметры alpha в диапазоне от 0.5 до 1.5, l1_ratio от 0.5 до 1.5 \n",
    "\n",
    "- Регрессии на основе метода опорных векторов (SVR), параметр degree в диапазоне от 1 до 5 \n",
    "\n",
    "Показатели качества регрессии: \n",
    "\n",
    "- Для определения лучшего регрессора MSPE \n",
    "\n",
    "- Для визуализации кривой обучения MSLE "
   ]
  },
  {
   "cell_type": "markdown",
   "metadata": {},
   "source": [
    "#### Задание 1.\n",
    "Считайте заданный набор данных из репозитария UCI, включая указанный в индивидуальном задании столбец с метками классов и столбец с откликом (зависимой переменной)."
   ]
  },
  {
   "cell_type": "code",
   "execution_count": 1,
   "metadata": {},
   "outputs": [
    {
     "data": {
      "text/html": [
       "<div>\n",
       "<style scoped>\n",
       "    .dataframe tbody tr th:only-of-type {\n",
       "        vertical-align: middle;\n",
       "    }\n",
       "\n",
       "    .dataframe tbody tr th {\n",
       "        vertical-align: top;\n",
       "    }\n",
       "\n",
       "    .dataframe thead th {\n",
       "        text-align: right;\n",
       "    }\n",
       "</style>\n",
       "<table border=\"1\" class=\"dataframe\">\n",
       "  <thead>\n",
       "    <tr style=\"text-align: right;\">\n",
       "      <th></th>\n",
       "      <th>0</th>\n",
       "      <th>1</th>\n",
       "      <th>2</th>\n",
       "      <th>3</th>\n",
       "      <th>4</th>\n",
       "      <th>5</th>\n",
       "      <th>6</th>\n",
       "      <th>7</th>\n",
       "      <th>8</th>\n",
       "      <th>9</th>\n",
       "      <th>...</th>\n",
       "      <th>30</th>\n",
       "      <th>31</th>\n",
       "      <th>32</th>\n",
       "      <th>33</th>\n",
       "      <th>34</th>\n",
       "      <th>35</th>\n",
       "      <th>36</th>\n",
       "      <th>37</th>\n",
       "      <th>38</th>\n",
       "      <th>39</th>\n",
       "    </tr>\n",
       "  </thead>\n",
       "  <tbody>\n",
       "    <tr>\n",
       "      <td>0</td>\n",
       "      <td>19910108</td>\n",
       "      <td>X126</td>\n",
       "      <td>TVGUIDE</td>\n",
       "      <td>25503</td>\n",
       "      <td>YES</td>\n",
       "      <td>KEY</td>\n",
       "      <td>YES</td>\n",
       "      <td>BENTON</td>\n",
       "      <td>GALLATIN</td>\n",
       "      <td>UNCOATED</td>\n",
       "      <td>...</td>\n",
       "      <td>36.4</td>\n",
       "      <td>0</td>\n",
       "      <td>0</td>\n",
       "      <td>2.5</td>\n",
       "      <td>1</td>\n",
       "      <td>34</td>\n",
       "      <td>40</td>\n",
       "      <td>105</td>\n",
       "      <td>100</td>\n",
       "      <td>band</td>\n",
       "    </tr>\n",
       "    <tr>\n",
       "      <td>1</td>\n",
       "      <td>19910109</td>\n",
       "      <td>X266</td>\n",
       "      <td>TVGUIDE</td>\n",
       "      <td>25503</td>\n",
       "      <td>YES</td>\n",
       "      <td>KEY</td>\n",
       "      <td>YES</td>\n",
       "      <td>BENTON</td>\n",
       "      <td>GALLATIN</td>\n",
       "      <td>UNCOATED</td>\n",
       "      <td>...</td>\n",
       "      <td>38.5</td>\n",
       "      <td>0</td>\n",
       "      <td>0</td>\n",
       "      <td>2.5</td>\n",
       "      <td>0.7</td>\n",
       "      <td>34</td>\n",
       "      <td>40</td>\n",
       "      <td>105</td>\n",
       "      <td>100</td>\n",
       "      <td>noband</td>\n",
       "    </tr>\n",
       "    <tr>\n",
       "      <td>2</td>\n",
       "      <td>19910104</td>\n",
       "      <td>B7</td>\n",
       "      <td>MODMAT</td>\n",
       "      <td>47201</td>\n",
       "      <td>YES</td>\n",
       "      <td>KEY</td>\n",
       "      <td>YES</td>\n",
       "      <td>BENTON</td>\n",
       "      <td>GALLATIN</td>\n",
       "      <td>UNCOATED</td>\n",
       "      <td>...</td>\n",
       "      <td>39.8</td>\n",
       "      <td>0</td>\n",
       "      <td>0</td>\n",
       "      <td>2.8</td>\n",
       "      <td>0.9</td>\n",
       "      <td>40</td>\n",
       "      <td>40</td>\n",
       "      <td>103.87</td>\n",
       "      <td>100</td>\n",
       "      <td>noband</td>\n",
       "    </tr>\n",
       "    <tr>\n",
       "      <td>3</td>\n",
       "      <td>19910104</td>\n",
       "      <td>T133</td>\n",
       "      <td>MASSEY</td>\n",
       "      <td>39039</td>\n",
       "      <td>YES</td>\n",
       "      <td>KEY</td>\n",
       "      <td>YES</td>\n",
       "      <td>BENTON</td>\n",
       "      <td>GALLATIN</td>\n",
       "      <td>UNCOATED</td>\n",
       "      <td>...</td>\n",
       "      <td>38.8</td>\n",
       "      <td>0</td>\n",
       "      <td>0</td>\n",
       "      <td>2.5</td>\n",
       "      <td>1.3</td>\n",
       "      <td>40</td>\n",
       "      <td>40</td>\n",
       "      <td>108.06</td>\n",
       "      <td>100</td>\n",
       "      <td>noband</td>\n",
       "    </tr>\n",
       "    <tr>\n",
       "      <td>4</td>\n",
       "      <td>19910111</td>\n",
       "      <td>J34</td>\n",
       "      <td>KMART</td>\n",
       "      <td>37351</td>\n",
       "      <td>NO</td>\n",
       "      <td>KEY</td>\n",
       "      <td>YES</td>\n",
       "      <td>BENTON</td>\n",
       "      <td>GALLATIN</td>\n",
       "      <td>UNCOATED</td>\n",
       "      <td>...</td>\n",
       "      <td>42.5</td>\n",
       "      <td>5</td>\n",
       "      <td>0</td>\n",
       "      <td>2.3</td>\n",
       "      <td>0.6</td>\n",
       "      <td>35</td>\n",
       "      <td>40</td>\n",
       "      <td>106.67</td>\n",
       "      <td>100</td>\n",
       "      <td>noband</td>\n",
       "    </tr>\n",
       "    <tr>\n",
       "      <td>...</td>\n",
       "      <td>...</td>\n",
       "      <td>...</td>\n",
       "      <td>...</td>\n",
       "      <td>...</td>\n",
       "      <td>...</td>\n",
       "      <td>...</td>\n",
       "      <td>...</td>\n",
       "      <td>...</td>\n",
       "      <td>...</td>\n",
       "      <td>...</td>\n",
       "      <td>...</td>\n",
       "      <td>...</td>\n",
       "      <td>...</td>\n",
       "      <td>...</td>\n",
       "      <td>...</td>\n",
       "      <td>...</td>\n",
       "      <td>...</td>\n",
       "      <td>...</td>\n",
       "      <td>...</td>\n",
       "      <td>...</td>\n",
       "      <td>...</td>\n",
       "    </tr>\n",
       "    <tr>\n",
       "      <td>536</td>\n",
       "      <td>19941005</td>\n",
       "      <td>aa66</td>\n",
       "      <td>kmart</td>\n",
       "      <td>85813</td>\n",
       "      <td>?</td>\n",
       "      <td>key</td>\n",
       "      <td>?</td>\n",
       "      <td>?</td>\n",
       "      <td>gallatin</td>\n",
       "      <td>super</td>\n",
       "      <td>...</td>\n",
       "      <td>?</td>\n",
       "      <td>?</td>\n",
       "      <td>?</td>\n",
       "      <td>1</td>\n",
       "      <td>1</td>\n",
       "      <td>?</td>\n",
       "      <td>40</td>\n",
       "      <td>112.5</td>\n",
       "      <td>100</td>\n",
       "      <td>band</td>\n",
       "    </tr>\n",
       "    <tr>\n",
       "      <td>537</td>\n",
       "      <td>19941009</td>\n",
       "      <td>j44</td>\n",
       "      <td>best</td>\n",
       "      <td>38064</td>\n",
       "      <td>?</td>\n",
       "      <td>key</td>\n",
       "      <td>?</td>\n",
       "      <td>?</td>\n",
       "      <td>gallatin</td>\n",
       "      <td>super</td>\n",
       "      <td>...</td>\n",
       "      <td>?</td>\n",
       "      <td>?</td>\n",
       "      <td>?</td>\n",
       "      <td>0</td>\n",
       "      <td>0</td>\n",
       "      <td>?</td>\n",
       "      <td>40</td>\n",
       "      <td>110</td>\n",
       "      <td>100</td>\n",
       "      <td>band</td>\n",
       "    </tr>\n",
       "    <tr>\n",
       "      <td>538</td>\n",
       "      <td>19941009</td>\n",
       "      <td>aa58</td>\n",
       "      <td>kmart</td>\n",
       "      <td>85814</td>\n",
       "      <td>?</td>\n",
       "      <td>key</td>\n",
       "      <td>?</td>\n",
       "      <td>?</td>\n",
       "      <td>gallatin</td>\n",
       "      <td>super</td>\n",
       "      <td>...</td>\n",
       "      <td>?</td>\n",
       "      <td>?</td>\n",
       "      <td>?</td>\n",
       "      <td>2.7</td>\n",
       "      <td>2.8</td>\n",
       "      <td>?</td>\n",
       "      <td>40</td>\n",
       "      <td>108</td>\n",
       "      <td>100</td>\n",
       "      <td>band</td>\n",
       "    </tr>\n",
       "    <tr>\n",
       "      <td>539</td>\n",
       "      <td>19941010</td>\n",
       "      <td>aa70</td>\n",
       "      <td>kmart</td>\n",
       "      <td>85814</td>\n",
       "      <td>?</td>\n",
       "      <td>key</td>\n",
       "      <td>?</td>\n",
       "      <td>?</td>\n",
       "      <td>gallatin</td>\n",
       "      <td>super</td>\n",
       "      <td>...</td>\n",
       "      <td>?</td>\n",
       "      <td>?</td>\n",
       "      <td>?</td>\n",
       "      <td>1.5</td>\n",
       "      <td>2.3</td>\n",
       "      <td>?</td>\n",
       "      <td>40</td>\n",
       "      <td>108</td>\n",
       "      <td>100</td>\n",
       "      <td>band</td>\n",
       "    </tr>\n",
       "    <tr>\n",
       "      <td>540</td>\n",
       "      <td>19941010</td>\n",
       "      <td>j70</td>\n",
       "      <td>best</td>\n",
       "      <td>38064</td>\n",
       "      <td>?</td>\n",
       "      <td>key</td>\n",
       "      <td>?</td>\n",
       "      <td>?</td>\n",
       "      <td>gallatin</td>\n",
       "      <td>super</td>\n",
       "      <td>...</td>\n",
       "      <td>?</td>\n",
       "      <td>?</td>\n",
       "      <td>?</td>\n",
       "      <td>2.5</td>\n",
       "      <td>1</td>\n",
       "      <td>?</td>\n",
       "      <td>40</td>\n",
       "      <td>108.1</td>\n",
       "      <td>100</td>\n",
       "      <td>band</td>\n",
       "    </tr>\n",
       "  </tbody>\n",
       "</table>\n",
       "<p>541 rows × 40 columns</p>\n",
       "</div>"
      ],
      "text/plain": [
       "           0     1        2      3    4    5    6       7         8   \\\n",
       "0    19910108  X126  TVGUIDE  25503  YES  KEY  YES  BENTON  GALLATIN   \n",
       "1    19910109  X266  TVGUIDE  25503  YES  KEY  YES  BENTON  GALLATIN   \n",
       "2    19910104    B7   MODMAT  47201  YES  KEY  YES  BENTON  GALLATIN   \n",
       "3    19910104  T133   MASSEY  39039  YES  KEY  YES  BENTON  GALLATIN   \n",
       "4    19910111   J34    KMART  37351   NO  KEY  YES  BENTON  GALLATIN   \n",
       "..        ...   ...      ...    ...  ...  ...  ...     ...       ...   \n",
       "536  19941005  aa66    kmart  85813    ?  key    ?       ?  gallatin   \n",
       "537  19941009   j44     best  38064    ?  key    ?       ?  gallatin   \n",
       "538  19941009  aa58    kmart  85814    ?  key    ?       ?  gallatin   \n",
       "539  19941010  aa70    kmart  85814    ?  key    ?       ?  gallatin   \n",
       "540  19941010   j70     best  38064    ?  key    ?       ?  gallatin   \n",
       "\n",
       "           9   ...    30 31 32   33   34  35  36      37   38      39  \n",
       "0    UNCOATED  ...  36.4  0  0  2.5    1  34  40     105  100    band  \n",
       "1    UNCOATED  ...  38.5  0  0  2.5  0.7  34  40     105  100  noband  \n",
       "2    UNCOATED  ...  39.8  0  0  2.8  0.9  40  40  103.87  100  noband  \n",
       "3    UNCOATED  ...  38.8  0  0  2.5  1.3  40  40  108.06  100  noband  \n",
       "4    UNCOATED  ...  42.5  5  0  2.3  0.6  35  40  106.67  100  noband  \n",
       "..        ...  ...   ... .. ..  ...  ...  ..  ..     ...  ...     ...  \n",
       "536     super  ...     ?  ?  ?    1    1   ?  40   112.5  100    band  \n",
       "537     super  ...     ?  ?  ?    0    0   ?  40     110  100    band  \n",
       "538     super  ...     ?  ?  ?  2.7  2.8   ?  40     108  100    band  \n",
       "539     super  ...     ?  ?  ?  1.5  2.3   ?  40     108  100    band  \n",
       "540     super  ...     ?  ?  ?  2.5    1   ?  40   108.1  100    band  \n",
       "\n",
       "[541 rows x 40 columns]"
      ]
     },
     "execution_count": 1,
     "metadata": {},
     "output_type": "execute_result"
    }
   ],
   "source": [
    "import pandas as pd\n",
    "\n",
    "# считываем данные в объект DataFrame\n",
    "my_data = pd.read_csv( \"https://archive.ics.uci.edu/ml/machine-learning-databases/cylinder-bands/bands.data\", header=None)\n",
    "my_data"
   ]
  },
  {
   "cell_type": "markdown",
   "metadata": {},
   "source": [
    "#### Задание 2.\t\n",
    "Преобразуйте в числовые признаки неправильно распознанные признаки с числовыми значениями. Если в столбцах с метками классов и откликом имеются пропущенные значения, то удалите записи с пропущенными значениями. Оставьте в наборе данных только числовые признаки. \n"
   ]
  },
  {
   "cell_type": "code",
   "execution_count": 2,
   "metadata": {},
   "outputs": [
    {
     "data": {
      "text/plain": [
       "array(['band', 'noband', nan], dtype=object)"
      ]
     },
     "execution_count": 2,
     "metadata": {},
     "output_type": "execute_result"
    }
   ],
   "source": [
    "my_data[39].unique()"
   ]
  },
  {
   "cell_type": "code",
   "execution_count": 3,
   "metadata": {},
   "outputs": [
    {
     "data": {
      "text/plain": [
       "2"
      ]
     },
     "execution_count": 3,
     "metadata": {},
     "output_type": "execute_result"
    }
   ],
   "source": [
    "my_data[39].isnull().sum(axis=0)"
   ]
  },
  {
   "cell_type": "code",
   "execution_count": 4,
   "metadata": {},
   "outputs": [
    {
     "data": {
      "text/html": [
       "<div>\n",
       "<style scoped>\n",
       "    .dataframe tbody tr th:only-of-type {\n",
       "        vertical-align: middle;\n",
       "    }\n",
       "\n",
       "    .dataframe tbody tr th {\n",
       "        vertical-align: top;\n",
       "    }\n",
       "\n",
       "    .dataframe thead th {\n",
       "        text-align: right;\n",
       "    }\n",
       "</style>\n",
       "<table border=\"1\" class=\"dataframe\">\n",
       "  <thead>\n",
       "    <tr style=\"text-align: right;\">\n",
       "      <th></th>\n",
       "      <th>0</th>\n",
       "      <th>1</th>\n",
       "      <th>2</th>\n",
       "      <th>3</th>\n",
       "      <th>4</th>\n",
       "      <th>5</th>\n",
       "      <th>6</th>\n",
       "      <th>7</th>\n",
       "      <th>8</th>\n",
       "      <th>9</th>\n",
       "      <th>...</th>\n",
       "      <th>30</th>\n",
       "      <th>31</th>\n",
       "      <th>32</th>\n",
       "      <th>33</th>\n",
       "      <th>34</th>\n",
       "      <th>35</th>\n",
       "      <th>36</th>\n",
       "      <th>37</th>\n",
       "      <th>38</th>\n",
       "      <th>39</th>\n",
       "    </tr>\n",
       "  </thead>\n",
       "  <tbody>\n",
       "    <tr>\n",
       "      <td>0</td>\n",
       "      <td>19910108</td>\n",
       "      <td>X126</td>\n",
       "      <td>TVGUIDE</td>\n",
       "      <td>25503</td>\n",
       "      <td>YES</td>\n",
       "      <td>KEY</td>\n",
       "      <td>YES</td>\n",
       "      <td>BENTON</td>\n",
       "      <td>GALLATIN</td>\n",
       "      <td>UNCOATED</td>\n",
       "      <td>...</td>\n",
       "      <td>36.4</td>\n",
       "      <td>0</td>\n",
       "      <td>0</td>\n",
       "      <td>2.5</td>\n",
       "      <td>1</td>\n",
       "      <td>34</td>\n",
       "      <td>40</td>\n",
       "      <td>105</td>\n",
       "      <td>100</td>\n",
       "      <td>band</td>\n",
       "    </tr>\n",
       "    <tr>\n",
       "      <td>1</td>\n",
       "      <td>19910109</td>\n",
       "      <td>X266</td>\n",
       "      <td>TVGUIDE</td>\n",
       "      <td>25503</td>\n",
       "      <td>YES</td>\n",
       "      <td>KEY</td>\n",
       "      <td>YES</td>\n",
       "      <td>BENTON</td>\n",
       "      <td>GALLATIN</td>\n",
       "      <td>UNCOATED</td>\n",
       "      <td>...</td>\n",
       "      <td>38.5</td>\n",
       "      <td>0</td>\n",
       "      <td>0</td>\n",
       "      <td>2.5</td>\n",
       "      <td>0.7</td>\n",
       "      <td>34</td>\n",
       "      <td>40</td>\n",
       "      <td>105</td>\n",
       "      <td>100</td>\n",
       "      <td>noband</td>\n",
       "    </tr>\n",
       "    <tr>\n",
       "      <td>2</td>\n",
       "      <td>19910104</td>\n",
       "      <td>B7</td>\n",
       "      <td>MODMAT</td>\n",
       "      <td>47201</td>\n",
       "      <td>YES</td>\n",
       "      <td>KEY</td>\n",
       "      <td>YES</td>\n",
       "      <td>BENTON</td>\n",
       "      <td>GALLATIN</td>\n",
       "      <td>UNCOATED</td>\n",
       "      <td>...</td>\n",
       "      <td>39.8</td>\n",
       "      <td>0</td>\n",
       "      <td>0</td>\n",
       "      <td>2.8</td>\n",
       "      <td>0.9</td>\n",
       "      <td>40</td>\n",
       "      <td>40</td>\n",
       "      <td>103.87</td>\n",
       "      <td>100</td>\n",
       "      <td>noband</td>\n",
       "    </tr>\n",
       "    <tr>\n",
       "      <td>3</td>\n",
       "      <td>19910104</td>\n",
       "      <td>T133</td>\n",
       "      <td>MASSEY</td>\n",
       "      <td>39039</td>\n",
       "      <td>YES</td>\n",
       "      <td>KEY</td>\n",
       "      <td>YES</td>\n",
       "      <td>BENTON</td>\n",
       "      <td>GALLATIN</td>\n",
       "      <td>UNCOATED</td>\n",
       "      <td>...</td>\n",
       "      <td>38.8</td>\n",
       "      <td>0</td>\n",
       "      <td>0</td>\n",
       "      <td>2.5</td>\n",
       "      <td>1.3</td>\n",
       "      <td>40</td>\n",
       "      <td>40</td>\n",
       "      <td>108.06</td>\n",
       "      <td>100</td>\n",
       "      <td>noband</td>\n",
       "    </tr>\n",
       "    <tr>\n",
       "      <td>4</td>\n",
       "      <td>19910111</td>\n",
       "      <td>J34</td>\n",
       "      <td>KMART</td>\n",
       "      <td>37351</td>\n",
       "      <td>NO</td>\n",
       "      <td>KEY</td>\n",
       "      <td>YES</td>\n",
       "      <td>BENTON</td>\n",
       "      <td>GALLATIN</td>\n",
       "      <td>UNCOATED</td>\n",
       "      <td>...</td>\n",
       "      <td>42.5</td>\n",
       "      <td>5</td>\n",
       "      <td>0</td>\n",
       "      <td>2.3</td>\n",
       "      <td>0.6</td>\n",
       "      <td>35</td>\n",
       "      <td>40</td>\n",
       "      <td>106.67</td>\n",
       "      <td>100</td>\n",
       "      <td>noband</td>\n",
       "    </tr>\n",
       "    <tr>\n",
       "      <td>...</td>\n",
       "      <td>...</td>\n",
       "      <td>...</td>\n",
       "      <td>...</td>\n",
       "      <td>...</td>\n",
       "      <td>...</td>\n",
       "      <td>...</td>\n",
       "      <td>...</td>\n",
       "      <td>...</td>\n",
       "      <td>...</td>\n",
       "      <td>...</td>\n",
       "      <td>...</td>\n",
       "      <td>...</td>\n",
       "      <td>...</td>\n",
       "      <td>...</td>\n",
       "      <td>...</td>\n",
       "      <td>...</td>\n",
       "      <td>...</td>\n",
       "      <td>...</td>\n",
       "      <td>...</td>\n",
       "      <td>...</td>\n",
       "      <td>...</td>\n",
       "    </tr>\n",
       "    <tr>\n",
       "      <td>534</td>\n",
       "      <td>19941005</td>\n",
       "      <td>aa66</td>\n",
       "      <td>kmart</td>\n",
       "      <td>85813</td>\n",
       "      <td>?</td>\n",
       "      <td>key</td>\n",
       "      <td>?</td>\n",
       "      <td>?</td>\n",
       "      <td>gallatin</td>\n",
       "      <td>super</td>\n",
       "      <td>...</td>\n",
       "      <td>?</td>\n",
       "      <td>?</td>\n",
       "      <td>?</td>\n",
       "      <td>1</td>\n",
       "      <td>1</td>\n",
       "      <td>?</td>\n",
       "      <td>40</td>\n",
       "      <td>112.5</td>\n",
       "      <td>100</td>\n",
       "      <td>band</td>\n",
       "    </tr>\n",
       "    <tr>\n",
       "      <td>535</td>\n",
       "      <td>19941009</td>\n",
       "      <td>j44</td>\n",
       "      <td>best</td>\n",
       "      <td>38064</td>\n",
       "      <td>?</td>\n",
       "      <td>key</td>\n",
       "      <td>?</td>\n",
       "      <td>?</td>\n",
       "      <td>gallatin</td>\n",
       "      <td>super</td>\n",
       "      <td>...</td>\n",
       "      <td>?</td>\n",
       "      <td>?</td>\n",
       "      <td>?</td>\n",
       "      <td>0</td>\n",
       "      <td>0</td>\n",
       "      <td>?</td>\n",
       "      <td>40</td>\n",
       "      <td>110</td>\n",
       "      <td>100</td>\n",
       "      <td>band</td>\n",
       "    </tr>\n",
       "    <tr>\n",
       "      <td>536</td>\n",
       "      <td>19941009</td>\n",
       "      <td>aa58</td>\n",
       "      <td>kmart</td>\n",
       "      <td>85814</td>\n",
       "      <td>?</td>\n",
       "      <td>key</td>\n",
       "      <td>?</td>\n",
       "      <td>?</td>\n",
       "      <td>gallatin</td>\n",
       "      <td>super</td>\n",
       "      <td>...</td>\n",
       "      <td>?</td>\n",
       "      <td>?</td>\n",
       "      <td>?</td>\n",
       "      <td>2.7</td>\n",
       "      <td>2.8</td>\n",
       "      <td>?</td>\n",
       "      <td>40</td>\n",
       "      <td>108</td>\n",
       "      <td>100</td>\n",
       "      <td>band</td>\n",
       "    </tr>\n",
       "    <tr>\n",
       "      <td>537</td>\n",
       "      <td>19941010</td>\n",
       "      <td>aa70</td>\n",
       "      <td>kmart</td>\n",
       "      <td>85814</td>\n",
       "      <td>?</td>\n",
       "      <td>key</td>\n",
       "      <td>?</td>\n",
       "      <td>?</td>\n",
       "      <td>gallatin</td>\n",
       "      <td>super</td>\n",
       "      <td>...</td>\n",
       "      <td>?</td>\n",
       "      <td>?</td>\n",
       "      <td>?</td>\n",
       "      <td>1.5</td>\n",
       "      <td>2.3</td>\n",
       "      <td>?</td>\n",
       "      <td>40</td>\n",
       "      <td>108</td>\n",
       "      <td>100</td>\n",
       "      <td>band</td>\n",
       "    </tr>\n",
       "    <tr>\n",
       "      <td>538</td>\n",
       "      <td>19941010</td>\n",
       "      <td>j70</td>\n",
       "      <td>best</td>\n",
       "      <td>38064</td>\n",
       "      <td>?</td>\n",
       "      <td>key</td>\n",
       "      <td>?</td>\n",
       "      <td>?</td>\n",
       "      <td>gallatin</td>\n",
       "      <td>super</td>\n",
       "      <td>...</td>\n",
       "      <td>?</td>\n",
       "      <td>?</td>\n",
       "      <td>?</td>\n",
       "      <td>2.5</td>\n",
       "      <td>1</td>\n",
       "      <td>?</td>\n",
       "      <td>40</td>\n",
       "      <td>108.1</td>\n",
       "      <td>100</td>\n",
       "      <td>band</td>\n",
       "    </tr>\n",
       "  </tbody>\n",
       "</table>\n",
       "<p>539 rows × 40 columns</p>\n",
       "</div>"
      ],
      "text/plain": [
       "           0     1        2      3    4    5    6       7         8   \\\n",
       "0    19910108  X126  TVGUIDE  25503  YES  KEY  YES  BENTON  GALLATIN   \n",
       "1    19910109  X266  TVGUIDE  25503  YES  KEY  YES  BENTON  GALLATIN   \n",
       "2    19910104    B7   MODMAT  47201  YES  KEY  YES  BENTON  GALLATIN   \n",
       "3    19910104  T133   MASSEY  39039  YES  KEY  YES  BENTON  GALLATIN   \n",
       "4    19910111   J34    KMART  37351   NO  KEY  YES  BENTON  GALLATIN   \n",
       "..        ...   ...      ...    ...  ...  ...  ...     ...       ...   \n",
       "534  19941005  aa66    kmart  85813    ?  key    ?       ?  gallatin   \n",
       "535  19941009   j44     best  38064    ?  key    ?       ?  gallatin   \n",
       "536  19941009  aa58    kmart  85814    ?  key    ?       ?  gallatin   \n",
       "537  19941010  aa70    kmart  85814    ?  key    ?       ?  gallatin   \n",
       "538  19941010   j70     best  38064    ?  key    ?       ?  gallatin   \n",
       "\n",
       "           9   ...    30 31 32   33   34  35  36      37   38      39  \n",
       "0    UNCOATED  ...  36.4  0  0  2.5    1  34  40     105  100    band  \n",
       "1    UNCOATED  ...  38.5  0  0  2.5  0.7  34  40     105  100  noband  \n",
       "2    UNCOATED  ...  39.8  0  0  2.8  0.9  40  40  103.87  100  noband  \n",
       "3    UNCOATED  ...  38.8  0  0  2.5  1.3  40  40  108.06  100  noband  \n",
       "4    UNCOATED  ...  42.5  5  0  2.3  0.6  35  40  106.67  100  noband  \n",
       "..        ...  ...   ... .. ..  ...  ...  ..  ..     ...  ...     ...  \n",
       "534     super  ...     ?  ?  ?    1    1   ?  40   112.5  100    band  \n",
       "535     super  ...     ?  ?  ?    0    0   ?  40     110  100    band  \n",
       "536     super  ...     ?  ?  ?  2.7  2.8   ?  40     108  100    band  \n",
       "537     super  ...     ?  ?  ?  1.5  2.3   ?  40     108  100    band  \n",
       "538     super  ...     ?  ?  ?  2.5    1   ?  40   108.1  100    band  \n",
       "\n",
       "[539 rows x 40 columns]"
      ]
     },
     "execution_count": 4,
     "metadata": {},
     "output_type": "execute_result"
    }
   ],
   "source": [
    "my_data = my_data.dropna()\n",
    "new_index = [i for i in range(len(my_data))]\n",
    "my_data = my_data.reset_index(drop=True)\n",
    "my_data"
   ]
  },
  {
   "cell_type": "code",
   "execution_count": 5,
   "metadata": {},
   "outputs": [],
   "source": [
    "import numpy as np\n",
    "my_data = my_data.replace('?', np.NaN)"
   ]
  },
  {
   "cell_type": "code",
   "execution_count": 6,
   "metadata": {},
   "outputs": [
    {
     "name": "stdout",
     "output_type": "stream",
     "text": [
      "Число записей = 539\n",
      "Число признаков = 40\n",
      "Число пропущенных значений:\n",
      "\t0: 0\n",
      "\t1: 0\n",
      "\t2: 0\n",
      "\t3: 0\n",
      "\t4: 48\n",
      "\t5: 0\n",
      "\t6: 56\n",
      "\t7: 59\n",
      "\t8: 0\n",
      "\t9: 0\n",
      "\t10: 0\n",
      "\t11: 24\n",
      "\t12: 54\n",
      "\t13: 18\n",
      "\t14: 0\n",
      "\t15: 0\n",
      "\t16: 0\n",
      "\t17: 3\n",
      "\t18: 155\n",
      "\t19: 18\n",
      "\t20: 54\n",
      "\t21: 5\n",
      "\t22: 27\n",
      "\t23: 2\n",
      "\t24: 1\n",
      "\t25: 30\n",
      "\t26: 63\n",
      "\t27: 55\n",
      "\t28: 10\n",
      "\t29: 55\n",
      "\t30: 55\n",
      "\t31: 56\n",
      "\t32: 54\n",
      "\t33: 6\n",
      "\t34: 7\n",
      "\t35: 54\n",
      "\t36: 7\n",
      "\t37: 7\n",
      "\t38: 3\n",
      "\t39: 0\n"
     ]
    }
   ],
   "source": [
    "print('Число записей = %d' % (my_data.shape[0]))\n",
    "print('Число признаков = %d' % (my_data.shape[1]))\n",
    "\n",
    "print('Число пропущенных значений:')\n",
    "for col in my_data.columns:\n",
    "    print('\\t%s: %d' % (col,my_data[col].isna().sum()))"
   ]
  },
  {
   "cell_type": "code",
   "execution_count": 7,
   "metadata": {},
   "outputs": [],
   "source": [
    "for col in my_data:\n",
    "    if my_data[col].dtypes == 'O':\n",
    "        my_data[col] = my_data[col].str.lower()"
   ]
  },
  {
   "cell_type": "markdown",
   "metadata": {},
   "source": [
    "Запомним индексы колонок с нечисловыми значениями и без пропущенных значений (иначе мы их затрем):"
   ]
  },
  {
   "cell_type": "code",
   "execution_count": 8,
   "metadata": {},
   "outputs": [],
   "source": [
    "columns1 = [1, 2, 5, 8, 9, 14, 39]"
   ]
  },
  {
   "cell_type": "markdown",
   "metadata": {},
   "source": [
    "Заменим нечисловые признаки числовыми:"
   ]
  },
  {
   "cell_type": "code",
   "execution_count": 9,
   "metadata": {},
   "outputs": [],
   "source": [
    "for col in columns1:\n",
    "    myList = my_data[col].unique()\n",
    "    myDict = {myList[i]: i for i in range(0, len(myList), 1)} \n",
    "    my_data = my_data.replace(myDict)"
   ]
  },
  {
   "cell_type": "code",
   "execution_count": 10,
   "metadata": {},
   "outputs": [
    {
     "data": {
      "text/html": [
       "<div>\n",
       "<style scoped>\n",
       "    .dataframe tbody tr th:only-of-type {\n",
       "        vertical-align: middle;\n",
       "    }\n",
       "\n",
       "    .dataframe tbody tr th {\n",
       "        vertical-align: top;\n",
       "    }\n",
       "\n",
       "    .dataframe thead th {\n",
       "        text-align: right;\n",
       "    }\n",
       "</style>\n",
       "<table border=\"1\" class=\"dataframe\">\n",
       "  <thead>\n",
       "    <tr style=\"text-align: right;\">\n",
       "      <th></th>\n",
       "      <th>0</th>\n",
       "      <th>1</th>\n",
       "      <th>2</th>\n",
       "      <th>3</th>\n",
       "      <th>4</th>\n",
       "      <th>5</th>\n",
       "      <th>6</th>\n",
       "      <th>7</th>\n",
       "      <th>8</th>\n",
       "      <th>9</th>\n",
       "      <th>...</th>\n",
       "      <th>30</th>\n",
       "      <th>31</th>\n",
       "      <th>32</th>\n",
       "      <th>33</th>\n",
       "      <th>34</th>\n",
       "      <th>35</th>\n",
       "      <th>36</th>\n",
       "      <th>37</th>\n",
       "      <th>38</th>\n",
       "      <th>39</th>\n",
       "    </tr>\n",
       "  </thead>\n",
       "  <tbody>\n",
       "    <tr>\n",
       "      <td>0</td>\n",
       "      <td>19910108</td>\n",
       "      <td>0</td>\n",
       "      <td>0</td>\n",
       "      <td>25503</td>\n",
       "      <td>yes</td>\n",
       "      <td>0</td>\n",
       "      <td>yes</td>\n",
       "      <td>benton</td>\n",
       "      <td>0</td>\n",
       "      <td>0</td>\n",
       "      <td>...</td>\n",
       "      <td>36.4</td>\n",
       "      <td>0</td>\n",
       "      <td>0</td>\n",
       "      <td>2.5</td>\n",
       "      <td>1</td>\n",
       "      <td>34</td>\n",
       "      <td>40</td>\n",
       "      <td>105</td>\n",
       "      <td>100</td>\n",
       "      <td>0</td>\n",
       "    </tr>\n",
       "    <tr>\n",
       "      <td>1</td>\n",
       "      <td>19910109</td>\n",
       "      <td>1</td>\n",
       "      <td>0</td>\n",
       "      <td>25503</td>\n",
       "      <td>yes</td>\n",
       "      <td>0</td>\n",
       "      <td>yes</td>\n",
       "      <td>benton</td>\n",
       "      <td>0</td>\n",
       "      <td>0</td>\n",
       "      <td>...</td>\n",
       "      <td>38.5</td>\n",
       "      <td>0</td>\n",
       "      <td>0</td>\n",
       "      <td>2.5</td>\n",
       "      <td>0.7</td>\n",
       "      <td>34</td>\n",
       "      <td>40</td>\n",
       "      <td>105</td>\n",
       "      <td>100</td>\n",
       "      <td>1</td>\n",
       "    </tr>\n",
       "    <tr>\n",
       "      <td>2</td>\n",
       "      <td>19910104</td>\n",
       "      <td>2</td>\n",
       "      <td>1</td>\n",
       "      <td>47201</td>\n",
       "      <td>yes</td>\n",
       "      <td>0</td>\n",
       "      <td>yes</td>\n",
       "      <td>benton</td>\n",
       "      <td>0</td>\n",
       "      <td>0</td>\n",
       "      <td>...</td>\n",
       "      <td>39.8</td>\n",
       "      <td>0</td>\n",
       "      <td>0</td>\n",
       "      <td>2.8</td>\n",
       "      <td>0.9</td>\n",
       "      <td>40</td>\n",
       "      <td>40</td>\n",
       "      <td>103.87</td>\n",
       "      <td>100</td>\n",
       "      <td>1</td>\n",
       "    </tr>\n",
       "    <tr>\n",
       "      <td>3</td>\n",
       "      <td>19910104</td>\n",
       "      <td>3</td>\n",
       "      <td>2</td>\n",
       "      <td>39039</td>\n",
       "      <td>yes</td>\n",
       "      <td>0</td>\n",
       "      <td>yes</td>\n",
       "      <td>benton</td>\n",
       "      <td>0</td>\n",
       "      <td>0</td>\n",
       "      <td>...</td>\n",
       "      <td>38.8</td>\n",
       "      <td>0</td>\n",
       "      <td>0</td>\n",
       "      <td>2.5</td>\n",
       "      <td>1.3</td>\n",
       "      <td>40</td>\n",
       "      <td>40</td>\n",
       "      <td>108.06</td>\n",
       "      <td>100</td>\n",
       "      <td>1</td>\n",
       "    </tr>\n",
       "    <tr>\n",
       "      <td>4</td>\n",
       "      <td>19910111</td>\n",
       "      <td>4</td>\n",
       "      <td>3</td>\n",
       "      <td>37351</td>\n",
       "      <td>no</td>\n",
       "      <td>0</td>\n",
       "      <td>yes</td>\n",
       "      <td>benton</td>\n",
       "      <td>0</td>\n",
       "      <td>0</td>\n",
       "      <td>...</td>\n",
       "      <td>42.5</td>\n",
       "      <td>5</td>\n",
       "      <td>0</td>\n",
       "      <td>2.3</td>\n",
       "      <td>0.6</td>\n",
       "      <td>35</td>\n",
       "      <td>40</td>\n",
       "      <td>106.67</td>\n",
       "      <td>100</td>\n",
       "      <td>1</td>\n",
       "    </tr>\n",
       "    <tr>\n",
       "      <td>...</td>\n",
       "      <td>...</td>\n",
       "      <td>...</td>\n",
       "      <td>...</td>\n",
       "      <td>...</td>\n",
       "      <td>...</td>\n",
       "      <td>...</td>\n",
       "      <td>...</td>\n",
       "      <td>...</td>\n",
       "      <td>...</td>\n",
       "      <td>...</td>\n",
       "      <td>...</td>\n",
       "      <td>...</td>\n",
       "      <td>...</td>\n",
       "      <td>...</td>\n",
       "      <td>...</td>\n",
       "      <td>...</td>\n",
       "      <td>...</td>\n",
       "      <td>...</td>\n",
       "      <td>...</td>\n",
       "      <td>...</td>\n",
       "      <td>...</td>\n",
       "    </tr>\n",
       "    <tr>\n",
       "      <td>534</td>\n",
       "      <td>19941005</td>\n",
       "      <td>425</td>\n",
       "      <td>3</td>\n",
       "      <td>85813</td>\n",
       "      <td>NaN</td>\n",
       "      <td>0</td>\n",
       "      <td>NaN</td>\n",
       "      <td>NaN</td>\n",
       "      <td>0</td>\n",
       "      <td>2</td>\n",
       "      <td>...</td>\n",
       "      <td>NaN</td>\n",
       "      <td>NaN</td>\n",
       "      <td>NaN</td>\n",
       "      <td>1</td>\n",
       "      <td>1</td>\n",
       "      <td>NaN</td>\n",
       "      <td>40</td>\n",
       "      <td>112.5</td>\n",
       "      <td>100</td>\n",
       "      <td>0</td>\n",
       "    </tr>\n",
       "    <tr>\n",
       "      <td>535</td>\n",
       "      <td>19941009</td>\n",
       "      <td>426</td>\n",
       "      <td>70</td>\n",
       "      <td>38064</td>\n",
       "      <td>NaN</td>\n",
       "      <td>0</td>\n",
       "      <td>NaN</td>\n",
       "      <td>NaN</td>\n",
       "      <td>0</td>\n",
       "      <td>2</td>\n",
       "      <td>...</td>\n",
       "      <td>NaN</td>\n",
       "      <td>NaN</td>\n",
       "      <td>NaN</td>\n",
       "      <td>0</td>\n",
       "      <td>0</td>\n",
       "      <td>NaN</td>\n",
       "      <td>40</td>\n",
       "      <td>110</td>\n",
       "      <td>100</td>\n",
       "      <td>0</td>\n",
       "    </tr>\n",
       "    <tr>\n",
       "      <td>536</td>\n",
       "      <td>19941009</td>\n",
       "      <td>400</td>\n",
       "      <td>3</td>\n",
       "      <td>85814</td>\n",
       "      <td>NaN</td>\n",
       "      <td>0</td>\n",
       "      <td>NaN</td>\n",
       "      <td>NaN</td>\n",
       "      <td>0</td>\n",
       "      <td>2</td>\n",
       "      <td>...</td>\n",
       "      <td>NaN</td>\n",
       "      <td>NaN</td>\n",
       "      <td>NaN</td>\n",
       "      <td>2.7</td>\n",
       "      <td>2.8</td>\n",
       "      <td>NaN</td>\n",
       "      <td>40</td>\n",
       "      <td>108</td>\n",
       "      <td>100</td>\n",
       "      <td>0</td>\n",
       "    </tr>\n",
       "    <tr>\n",
       "      <td>537</td>\n",
       "      <td>19941010</td>\n",
       "      <td>427</td>\n",
       "      <td>3</td>\n",
       "      <td>85814</td>\n",
       "      <td>NaN</td>\n",
       "      <td>0</td>\n",
       "      <td>NaN</td>\n",
       "      <td>NaN</td>\n",
       "      <td>0</td>\n",
       "      <td>2</td>\n",
       "      <td>...</td>\n",
       "      <td>NaN</td>\n",
       "      <td>NaN</td>\n",
       "      <td>NaN</td>\n",
       "      <td>1.5</td>\n",
       "      <td>2.3</td>\n",
       "      <td>NaN</td>\n",
       "      <td>40</td>\n",
       "      <td>108</td>\n",
       "      <td>100</td>\n",
       "      <td>0</td>\n",
       "    </tr>\n",
       "    <tr>\n",
       "      <td>538</td>\n",
       "      <td>19941010</td>\n",
       "      <td>428</td>\n",
       "      <td>70</td>\n",
       "      <td>38064</td>\n",
       "      <td>NaN</td>\n",
       "      <td>0</td>\n",
       "      <td>NaN</td>\n",
       "      <td>NaN</td>\n",
       "      <td>0</td>\n",
       "      <td>2</td>\n",
       "      <td>...</td>\n",
       "      <td>NaN</td>\n",
       "      <td>NaN</td>\n",
       "      <td>NaN</td>\n",
       "      <td>2.5</td>\n",
       "      <td>1</td>\n",
       "      <td>NaN</td>\n",
       "      <td>40</td>\n",
       "      <td>108.1</td>\n",
       "      <td>100</td>\n",
       "      <td>0</td>\n",
       "    </tr>\n",
       "  </tbody>\n",
       "</table>\n",
       "<p>539 rows × 40 columns</p>\n",
       "</div>"
      ],
      "text/plain": [
       "           0    1   2      3    4   5    6       7   8   9   ...    30   31  \\\n",
       "0    19910108    0   0  25503  yes   0  yes  benton   0   0  ...  36.4    0   \n",
       "1    19910109    1   0  25503  yes   0  yes  benton   0   0  ...  38.5    0   \n",
       "2    19910104    2   1  47201  yes   0  yes  benton   0   0  ...  39.8    0   \n",
       "3    19910104    3   2  39039  yes   0  yes  benton   0   0  ...  38.8    0   \n",
       "4    19910111    4   3  37351   no   0  yes  benton   0   0  ...  42.5    5   \n",
       "..        ...  ...  ..    ...  ...  ..  ...     ...  ..  ..  ...   ...  ...   \n",
       "534  19941005  425   3  85813  NaN   0  NaN     NaN   0   2  ...   NaN  NaN   \n",
       "535  19941009  426  70  38064  NaN   0  NaN     NaN   0   2  ...   NaN  NaN   \n",
       "536  19941009  400   3  85814  NaN   0  NaN     NaN   0   2  ...   NaN  NaN   \n",
       "537  19941010  427   3  85814  NaN   0  NaN     NaN   0   2  ...   NaN  NaN   \n",
       "538  19941010  428  70  38064  NaN   0  NaN     NaN   0   2  ...   NaN  NaN   \n",
       "\n",
       "      32   33   34   35  36      37   38 39  \n",
       "0      0  2.5    1   34  40     105  100  0  \n",
       "1      0  2.5  0.7   34  40     105  100  1  \n",
       "2      0  2.8  0.9   40  40  103.87  100  1  \n",
       "3      0  2.5  1.3   40  40  108.06  100  1  \n",
       "4      0  2.3  0.6   35  40  106.67  100  1  \n",
       "..   ...  ...  ...  ...  ..     ...  ... ..  \n",
       "534  NaN    1    1  NaN  40   112.5  100  0  \n",
       "535  NaN    0    0  NaN  40     110  100  0  \n",
       "536  NaN  2.7  2.8  NaN  40     108  100  0  \n",
       "537  NaN  1.5  2.3  NaN  40     108  100  0  \n",
       "538  NaN  2.5    1  NaN  40   108.1  100  0  \n",
       "\n",
       "[539 rows x 40 columns]"
      ]
     },
     "execution_count": 10,
     "metadata": {},
     "output_type": "execute_result"
    }
   ],
   "source": [
    "my_data"
   ]
  },
  {
   "cell_type": "markdown",
   "metadata": {},
   "source": [
    "Сделаем тоже самое с признаками с пропущенныеми значениями, но поотдельности:"
   ]
  },
  {
   "cell_type": "code",
   "execution_count": 11,
   "metadata": {},
   "outputs": [
    {
     "name": "stdout",
     "output_type": "stream",
     "text": [
      "['yes' 'no' nan]\n",
      "['yes' 'no' nan]\n",
      "['benton' nan 'uddeholm']\n",
      "[0 1 'cover']\n",
      "['no' 'yes' nan]\n",
      "['line' 'xylol' 'naptha' nan]\n",
      "['yes' 'no' nan]\n",
      "['tabloid' 'catalog' 'spiegel' nan]\n",
      "['northus' nan 'canadian' 'scandanavian' 'southus' 'mideuropean']\n",
      "['1911' nan '1910']\n"
     ]
    }
   ],
   "source": [
    "columns2 = [4, 6, 7, 10, 11, 12, 13, 17, 18, 19]\n",
    "for i in columns2:\n",
    "    print(my_data[i].unique())"
   ]
  },
  {
   "cell_type": "code",
   "execution_count": 12,
   "metadata": {},
   "outputs": [],
   "source": [
    "dict1 = {'yes':1, 'no':0}\n",
    "dict2 = {'benton':1, 'uddeholm':0}\n",
    "dict3 = {'cover':2}\n",
    "dict4 = {'line':0, 'xylol':1, 'naptha':2}\n",
    "dict5 = {'tabloid':1, 'catalog':2, 'spiegel':3}\n",
    "dict6 = {'northus':1, 'canadian':2, 'scandanavian':3, 'southus':4, 'mideuropean':5}\n",
    "dict7 = {'1911':1, '1910':0}"
   ]
  },
  {
   "cell_type": "code",
   "execution_count": 13,
   "metadata": {},
   "outputs": [
    {
     "data": {
      "text/html": [
       "<div>\n",
       "<style scoped>\n",
       "    .dataframe tbody tr th:only-of-type {\n",
       "        vertical-align: middle;\n",
       "    }\n",
       "\n",
       "    .dataframe tbody tr th {\n",
       "        vertical-align: top;\n",
       "    }\n",
       "\n",
       "    .dataframe thead th {\n",
       "        text-align: right;\n",
       "    }\n",
       "</style>\n",
       "<table border=\"1\" class=\"dataframe\">\n",
       "  <thead>\n",
       "    <tr style=\"text-align: right;\">\n",
       "      <th></th>\n",
       "      <th>0</th>\n",
       "      <th>1</th>\n",
       "      <th>2</th>\n",
       "      <th>3</th>\n",
       "      <th>4</th>\n",
       "      <th>5</th>\n",
       "      <th>6</th>\n",
       "      <th>7</th>\n",
       "      <th>8</th>\n",
       "      <th>9</th>\n",
       "      <th>...</th>\n",
       "      <th>30</th>\n",
       "      <th>31</th>\n",
       "      <th>32</th>\n",
       "      <th>33</th>\n",
       "      <th>34</th>\n",
       "      <th>35</th>\n",
       "      <th>36</th>\n",
       "      <th>37</th>\n",
       "      <th>38</th>\n",
       "      <th>39</th>\n",
       "    </tr>\n",
       "  </thead>\n",
       "  <tbody>\n",
       "    <tr>\n",
       "      <td>0</td>\n",
       "      <td>19910108</td>\n",
       "      <td>0</td>\n",
       "      <td>0</td>\n",
       "      <td>25503</td>\n",
       "      <td>1.0</td>\n",
       "      <td>0</td>\n",
       "      <td>1.0</td>\n",
       "      <td>1.0</td>\n",
       "      <td>0</td>\n",
       "      <td>0</td>\n",
       "      <td>...</td>\n",
       "      <td>36.4</td>\n",
       "      <td>0</td>\n",
       "      <td>0</td>\n",
       "      <td>2.5</td>\n",
       "      <td>1</td>\n",
       "      <td>34</td>\n",
       "      <td>40</td>\n",
       "      <td>105</td>\n",
       "      <td>100</td>\n",
       "      <td>0</td>\n",
       "    </tr>\n",
       "    <tr>\n",
       "      <td>1</td>\n",
       "      <td>19910109</td>\n",
       "      <td>1</td>\n",
       "      <td>0</td>\n",
       "      <td>25503</td>\n",
       "      <td>1.0</td>\n",
       "      <td>0</td>\n",
       "      <td>1.0</td>\n",
       "      <td>1.0</td>\n",
       "      <td>0</td>\n",
       "      <td>0</td>\n",
       "      <td>...</td>\n",
       "      <td>38.5</td>\n",
       "      <td>0</td>\n",
       "      <td>0</td>\n",
       "      <td>2.5</td>\n",
       "      <td>0.7</td>\n",
       "      <td>34</td>\n",
       "      <td>40</td>\n",
       "      <td>105</td>\n",
       "      <td>100</td>\n",
       "      <td>1</td>\n",
       "    </tr>\n",
       "    <tr>\n",
       "      <td>2</td>\n",
       "      <td>19910104</td>\n",
       "      <td>2</td>\n",
       "      <td>1</td>\n",
       "      <td>47201</td>\n",
       "      <td>1.0</td>\n",
       "      <td>0</td>\n",
       "      <td>1.0</td>\n",
       "      <td>1.0</td>\n",
       "      <td>0</td>\n",
       "      <td>0</td>\n",
       "      <td>...</td>\n",
       "      <td>39.8</td>\n",
       "      <td>0</td>\n",
       "      <td>0</td>\n",
       "      <td>2.8</td>\n",
       "      <td>0.9</td>\n",
       "      <td>40</td>\n",
       "      <td>40</td>\n",
       "      <td>103.87</td>\n",
       "      <td>100</td>\n",
       "      <td>1</td>\n",
       "    </tr>\n",
       "    <tr>\n",
       "      <td>3</td>\n",
       "      <td>19910104</td>\n",
       "      <td>3</td>\n",
       "      <td>2</td>\n",
       "      <td>39039</td>\n",
       "      <td>1.0</td>\n",
       "      <td>0</td>\n",
       "      <td>1.0</td>\n",
       "      <td>1.0</td>\n",
       "      <td>0</td>\n",
       "      <td>0</td>\n",
       "      <td>...</td>\n",
       "      <td>38.8</td>\n",
       "      <td>0</td>\n",
       "      <td>0</td>\n",
       "      <td>2.5</td>\n",
       "      <td>1.3</td>\n",
       "      <td>40</td>\n",
       "      <td>40</td>\n",
       "      <td>108.06</td>\n",
       "      <td>100</td>\n",
       "      <td>1</td>\n",
       "    </tr>\n",
       "    <tr>\n",
       "      <td>4</td>\n",
       "      <td>19910111</td>\n",
       "      <td>4</td>\n",
       "      <td>3</td>\n",
       "      <td>37351</td>\n",
       "      <td>0.0</td>\n",
       "      <td>0</td>\n",
       "      <td>1.0</td>\n",
       "      <td>1.0</td>\n",
       "      <td>0</td>\n",
       "      <td>0</td>\n",
       "      <td>...</td>\n",
       "      <td>42.5</td>\n",
       "      <td>5</td>\n",
       "      <td>0</td>\n",
       "      <td>2.3</td>\n",
       "      <td>0.6</td>\n",
       "      <td>35</td>\n",
       "      <td>40</td>\n",
       "      <td>106.67</td>\n",
       "      <td>100</td>\n",
       "      <td>1</td>\n",
       "    </tr>\n",
       "    <tr>\n",
       "      <td>...</td>\n",
       "      <td>...</td>\n",
       "      <td>...</td>\n",
       "      <td>...</td>\n",
       "      <td>...</td>\n",
       "      <td>...</td>\n",
       "      <td>...</td>\n",
       "      <td>...</td>\n",
       "      <td>...</td>\n",
       "      <td>...</td>\n",
       "      <td>...</td>\n",
       "      <td>...</td>\n",
       "      <td>...</td>\n",
       "      <td>...</td>\n",
       "      <td>...</td>\n",
       "      <td>...</td>\n",
       "      <td>...</td>\n",
       "      <td>...</td>\n",
       "      <td>...</td>\n",
       "      <td>...</td>\n",
       "      <td>...</td>\n",
       "      <td>...</td>\n",
       "    </tr>\n",
       "    <tr>\n",
       "      <td>534</td>\n",
       "      <td>19941005</td>\n",
       "      <td>425</td>\n",
       "      <td>3</td>\n",
       "      <td>85813</td>\n",
       "      <td>NaN</td>\n",
       "      <td>0</td>\n",
       "      <td>NaN</td>\n",
       "      <td>NaN</td>\n",
       "      <td>0</td>\n",
       "      <td>2</td>\n",
       "      <td>...</td>\n",
       "      <td>NaN</td>\n",
       "      <td>NaN</td>\n",
       "      <td>NaN</td>\n",
       "      <td>1</td>\n",
       "      <td>1</td>\n",
       "      <td>NaN</td>\n",
       "      <td>40</td>\n",
       "      <td>112.5</td>\n",
       "      <td>100</td>\n",
       "      <td>0</td>\n",
       "    </tr>\n",
       "    <tr>\n",
       "      <td>535</td>\n",
       "      <td>19941009</td>\n",
       "      <td>426</td>\n",
       "      <td>70</td>\n",
       "      <td>38064</td>\n",
       "      <td>NaN</td>\n",
       "      <td>0</td>\n",
       "      <td>NaN</td>\n",
       "      <td>NaN</td>\n",
       "      <td>0</td>\n",
       "      <td>2</td>\n",
       "      <td>...</td>\n",
       "      <td>NaN</td>\n",
       "      <td>NaN</td>\n",
       "      <td>NaN</td>\n",
       "      <td>0</td>\n",
       "      <td>0</td>\n",
       "      <td>NaN</td>\n",
       "      <td>40</td>\n",
       "      <td>110</td>\n",
       "      <td>100</td>\n",
       "      <td>0</td>\n",
       "    </tr>\n",
       "    <tr>\n",
       "      <td>536</td>\n",
       "      <td>19941009</td>\n",
       "      <td>400</td>\n",
       "      <td>3</td>\n",
       "      <td>85814</td>\n",
       "      <td>NaN</td>\n",
       "      <td>0</td>\n",
       "      <td>NaN</td>\n",
       "      <td>NaN</td>\n",
       "      <td>0</td>\n",
       "      <td>2</td>\n",
       "      <td>...</td>\n",
       "      <td>NaN</td>\n",
       "      <td>NaN</td>\n",
       "      <td>NaN</td>\n",
       "      <td>2.7</td>\n",
       "      <td>2.8</td>\n",
       "      <td>NaN</td>\n",
       "      <td>40</td>\n",
       "      <td>108</td>\n",
       "      <td>100</td>\n",
       "      <td>0</td>\n",
       "    </tr>\n",
       "    <tr>\n",
       "      <td>537</td>\n",
       "      <td>19941010</td>\n",
       "      <td>427</td>\n",
       "      <td>3</td>\n",
       "      <td>85814</td>\n",
       "      <td>NaN</td>\n",
       "      <td>0</td>\n",
       "      <td>NaN</td>\n",
       "      <td>NaN</td>\n",
       "      <td>0</td>\n",
       "      <td>2</td>\n",
       "      <td>...</td>\n",
       "      <td>NaN</td>\n",
       "      <td>NaN</td>\n",
       "      <td>NaN</td>\n",
       "      <td>1.5</td>\n",
       "      <td>2.3</td>\n",
       "      <td>NaN</td>\n",
       "      <td>40</td>\n",
       "      <td>108</td>\n",
       "      <td>100</td>\n",
       "      <td>0</td>\n",
       "    </tr>\n",
       "    <tr>\n",
       "      <td>538</td>\n",
       "      <td>19941010</td>\n",
       "      <td>428</td>\n",
       "      <td>70</td>\n",
       "      <td>38064</td>\n",
       "      <td>NaN</td>\n",
       "      <td>0</td>\n",
       "      <td>NaN</td>\n",
       "      <td>NaN</td>\n",
       "      <td>0</td>\n",
       "      <td>2</td>\n",
       "      <td>...</td>\n",
       "      <td>NaN</td>\n",
       "      <td>NaN</td>\n",
       "      <td>NaN</td>\n",
       "      <td>2.5</td>\n",
       "      <td>1</td>\n",
       "      <td>NaN</td>\n",
       "      <td>40</td>\n",
       "      <td>108.1</td>\n",
       "      <td>100</td>\n",
       "      <td>0</td>\n",
       "    </tr>\n",
       "  </tbody>\n",
       "</table>\n",
       "<p>539 rows × 40 columns</p>\n",
       "</div>"
      ],
      "text/plain": [
       "           0    1   2      3    4   5    6    7   8   9   ...    30   31   32  \\\n",
       "0    19910108    0   0  25503  1.0   0  1.0  1.0   0   0  ...  36.4    0    0   \n",
       "1    19910109    1   0  25503  1.0   0  1.0  1.0   0   0  ...  38.5    0    0   \n",
       "2    19910104    2   1  47201  1.0   0  1.0  1.0   0   0  ...  39.8    0    0   \n",
       "3    19910104    3   2  39039  1.0   0  1.0  1.0   0   0  ...  38.8    0    0   \n",
       "4    19910111    4   3  37351  0.0   0  1.0  1.0   0   0  ...  42.5    5    0   \n",
       "..        ...  ...  ..    ...  ...  ..  ...  ...  ..  ..  ...   ...  ...  ...   \n",
       "534  19941005  425   3  85813  NaN   0  NaN  NaN   0   2  ...   NaN  NaN  NaN   \n",
       "535  19941009  426  70  38064  NaN   0  NaN  NaN   0   2  ...   NaN  NaN  NaN   \n",
       "536  19941009  400   3  85814  NaN   0  NaN  NaN   0   2  ...   NaN  NaN  NaN   \n",
       "537  19941010  427   3  85814  NaN   0  NaN  NaN   0   2  ...   NaN  NaN  NaN   \n",
       "538  19941010  428  70  38064  NaN   0  NaN  NaN   0   2  ...   NaN  NaN  NaN   \n",
       "\n",
       "      33   34   35  36      37   38  39  \n",
       "0    2.5    1   34  40     105  100   0  \n",
       "1    2.5  0.7   34  40     105  100   1  \n",
       "2    2.8  0.9   40  40  103.87  100   1  \n",
       "3    2.5  1.3   40  40  108.06  100   1  \n",
       "4    2.3  0.6   35  40  106.67  100   1  \n",
       "..   ...  ...  ...  ..     ...  ...  ..  \n",
       "534    1    1  NaN  40   112.5  100   0  \n",
       "535    0    0  NaN  40     110  100   0  \n",
       "536  2.7  2.8  NaN  40     108  100   0  \n",
       "537  1.5  2.3  NaN  40     108  100   0  \n",
       "538  2.5    1  NaN  40   108.1  100   0  \n",
       "\n",
       "[539 rows x 40 columns]"
      ]
     },
     "execution_count": 13,
     "metadata": {},
     "output_type": "execute_result"
    }
   ],
   "source": [
    "my_data = my_data.replace(dict1)\n",
    "my_data = my_data.replace(dict2)\n",
    "my_data = my_data.replace(dict3)\n",
    "my_data = my_data.replace(dict4)\n",
    "my_data = my_data.replace(dict5)\n",
    "my_data = my_data.replace(dict6)\n",
    "my_data = my_data.replace(dict7)\n",
    "my_data"
   ]
  },
  {
   "cell_type": "code",
   "execution_count": 14,
   "metadata": {},
   "outputs": [
    {
     "data": {
      "text/plain": [
       "0      object\n",
       "1       int64\n",
       "2       int64\n",
       "3      object\n",
       "4     float64\n",
       "5       int64\n",
       "6     float64\n",
       "7     float64\n",
       "8       int64\n",
       "9       int64\n",
       "10      int64\n",
       "11    float64\n",
       "12    float64\n",
       "13    float64\n",
       "14      int64\n",
       "15     object\n",
       "16    float64\n",
       "17    float64\n",
       "18    float64\n",
       "19    float64\n",
       "20     object\n",
       "21     object\n",
       "22     object\n",
       "23     object\n",
       "24     object\n",
       "25     object\n",
       "26     object\n",
       "27     object\n",
       "28     object\n",
       "29     object\n",
       "30     object\n",
       "31     object\n",
       "32     object\n",
       "33     object\n",
       "34     object\n",
       "35     object\n",
       "36     object\n",
       "37     object\n",
       "38     object\n",
       "39      int64\n",
       "dtype: object"
      ]
     },
     "execution_count": 14,
     "metadata": {},
     "output_type": "execute_result"
    }
   ],
   "source": [
    "my_data.dtypes"
   ]
  },
  {
   "cell_type": "code",
   "execution_count": 15,
   "metadata": {},
   "outputs": [
    {
     "data": {
      "text/html": [
       "<div>\n",
       "<style scoped>\n",
       "    .dataframe tbody tr th:only-of-type {\n",
       "        vertical-align: middle;\n",
       "    }\n",
       "\n",
       "    .dataframe tbody tr th {\n",
       "        vertical-align: top;\n",
       "    }\n",
       "\n",
       "    .dataframe thead th {\n",
       "        text-align: right;\n",
       "    }\n",
       "</style>\n",
       "<table border=\"1\" class=\"dataframe\">\n",
       "  <thead>\n",
       "    <tr style=\"text-align: right;\">\n",
       "      <th></th>\n",
       "      <th>0</th>\n",
       "      <th>1</th>\n",
       "      <th>2</th>\n",
       "      <th>3</th>\n",
       "      <th>4</th>\n",
       "      <th>5</th>\n",
       "      <th>6</th>\n",
       "      <th>7</th>\n",
       "      <th>8</th>\n",
       "      <th>9</th>\n",
       "      <th>...</th>\n",
       "      <th>30</th>\n",
       "      <th>31</th>\n",
       "      <th>32</th>\n",
       "      <th>33</th>\n",
       "      <th>34</th>\n",
       "      <th>35</th>\n",
       "      <th>36</th>\n",
       "      <th>37</th>\n",
       "      <th>38</th>\n",
       "      <th>39</th>\n",
       "    </tr>\n",
       "  </thead>\n",
       "  <tbody>\n",
       "    <tr>\n",
       "      <td>0</td>\n",
       "      <td>19910108.0</td>\n",
       "      <td>0.0</td>\n",
       "      <td>0.0</td>\n",
       "      <td>25503.0</td>\n",
       "      <td>1.0</td>\n",
       "      <td>0.0</td>\n",
       "      <td>1.0</td>\n",
       "      <td>1.0</td>\n",
       "      <td>0.0</td>\n",
       "      <td>0.0</td>\n",
       "      <td>...</td>\n",
       "      <td>36.4</td>\n",
       "      <td>0.0</td>\n",
       "      <td>0.0</td>\n",
       "      <td>2.5</td>\n",
       "      <td>1.0</td>\n",
       "      <td>34.0</td>\n",
       "      <td>40.0</td>\n",
       "      <td>105.00</td>\n",
       "      <td>100.0</td>\n",
       "      <td>0.0</td>\n",
       "    </tr>\n",
       "    <tr>\n",
       "      <td>1</td>\n",
       "      <td>19910109.0</td>\n",
       "      <td>1.0</td>\n",
       "      <td>0.0</td>\n",
       "      <td>25503.0</td>\n",
       "      <td>1.0</td>\n",
       "      <td>0.0</td>\n",
       "      <td>1.0</td>\n",
       "      <td>1.0</td>\n",
       "      <td>0.0</td>\n",
       "      <td>0.0</td>\n",
       "      <td>...</td>\n",
       "      <td>38.5</td>\n",
       "      <td>0.0</td>\n",
       "      <td>0.0</td>\n",
       "      <td>2.5</td>\n",
       "      <td>0.7</td>\n",
       "      <td>34.0</td>\n",
       "      <td>40.0</td>\n",
       "      <td>105.00</td>\n",
       "      <td>100.0</td>\n",
       "      <td>1.0</td>\n",
       "    </tr>\n",
       "    <tr>\n",
       "      <td>2</td>\n",
       "      <td>19910104.0</td>\n",
       "      <td>2.0</td>\n",
       "      <td>1.0</td>\n",
       "      <td>47201.0</td>\n",
       "      <td>1.0</td>\n",
       "      <td>0.0</td>\n",
       "      <td>1.0</td>\n",
       "      <td>1.0</td>\n",
       "      <td>0.0</td>\n",
       "      <td>0.0</td>\n",
       "      <td>...</td>\n",
       "      <td>39.8</td>\n",
       "      <td>0.0</td>\n",
       "      <td>0.0</td>\n",
       "      <td>2.8</td>\n",
       "      <td>0.9</td>\n",
       "      <td>40.0</td>\n",
       "      <td>40.0</td>\n",
       "      <td>103.87</td>\n",
       "      <td>100.0</td>\n",
       "      <td>1.0</td>\n",
       "    </tr>\n",
       "    <tr>\n",
       "      <td>3</td>\n",
       "      <td>19910104.0</td>\n",
       "      <td>3.0</td>\n",
       "      <td>2.0</td>\n",
       "      <td>39039.0</td>\n",
       "      <td>1.0</td>\n",
       "      <td>0.0</td>\n",
       "      <td>1.0</td>\n",
       "      <td>1.0</td>\n",
       "      <td>0.0</td>\n",
       "      <td>0.0</td>\n",
       "      <td>...</td>\n",
       "      <td>38.8</td>\n",
       "      <td>0.0</td>\n",
       "      <td>0.0</td>\n",
       "      <td>2.5</td>\n",
       "      <td>1.3</td>\n",
       "      <td>40.0</td>\n",
       "      <td>40.0</td>\n",
       "      <td>108.06</td>\n",
       "      <td>100.0</td>\n",
       "      <td>1.0</td>\n",
       "    </tr>\n",
       "    <tr>\n",
       "      <td>4</td>\n",
       "      <td>19910111.0</td>\n",
       "      <td>4.0</td>\n",
       "      <td>3.0</td>\n",
       "      <td>37351.0</td>\n",
       "      <td>0.0</td>\n",
       "      <td>0.0</td>\n",
       "      <td>1.0</td>\n",
       "      <td>1.0</td>\n",
       "      <td>0.0</td>\n",
       "      <td>0.0</td>\n",
       "      <td>...</td>\n",
       "      <td>42.5</td>\n",
       "      <td>5.0</td>\n",
       "      <td>0.0</td>\n",
       "      <td>2.3</td>\n",
       "      <td>0.6</td>\n",
       "      <td>35.0</td>\n",
       "      <td>40.0</td>\n",
       "      <td>106.67</td>\n",
       "      <td>100.0</td>\n",
       "      <td>1.0</td>\n",
       "    </tr>\n",
       "    <tr>\n",
       "      <td>...</td>\n",
       "      <td>...</td>\n",
       "      <td>...</td>\n",
       "      <td>...</td>\n",
       "      <td>...</td>\n",
       "      <td>...</td>\n",
       "      <td>...</td>\n",
       "      <td>...</td>\n",
       "      <td>...</td>\n",
       "      <td>...</td>\n",
       "      <td>...</td>\n",
       "      <td>...</td>\n",
       "      <td>...</td>\n",
       "      <td>...</td>\n",
       "      <td>...</td>\n",
       "      <td>...</td>\n",
       "      <td>...</td>\n",
       "      <td>...</td>\n",
       "      <td>...</td>\n",
       "      <td>...</td>\n",
       "      <td>...</td>\n",
       "      <td>...</td>\n",
       "    </tr>\n",
       "    <tr>\n",
       "      <td>534</td>\n",
       "      <td>19941005.0</td>\n",
       "      <td>425.0</td>\n",
       "      <td>3.0</td>\n",
       "      <td>85813.0</td>\n",
       "      <td>NaN</td>\n",
       "      <td>0.0</td>\n",
       "      <td>NaN</td>\n",
       "      <td>NaN</td>\n",
       "      <td>0.0</td>\n",
       "      <td>2.0</td>\n",
       "      <td>...</td>\n",
       "      <td>NaN</td>\n",
       "      <td>NaN</td>\n",
       "      <td>NaN</td>\n",
       "      <td>1.0</td>\n",
       "      <td>1.0</td>\n",
       "      <td>NaN</td>\n",
       "      <td>40.0</td>\n",
       "      <td>112.50</td>\n",
       "      <td>100.0</td>\n",
       "      <td>0.0</td>\n",
       "    </tr>\n",
       "    <tr>\n",
       "      <td>535</td>\n",
       "      <td>19941009.0</td>\n",
       "      <td>426.0</td>\n",
       "      <td>70.0</td>\n",
       "      <td>38064.0</td>\n",
       "      <td>NaN</td>\n",
       "      <td>0.0</td>\n",
       "      <td>NaN</td>\n",
       "      <td>NaN</td>\n",
       "      <td>0.0</td>\n",
       "      <td>2.0</td>\n",
       "      <td>...</td>\n",
       "      <td>NaN</td>\n",
       "      <td>NaN</td>\n",
       "      <td>NaN</td>\n",
       "      <td>0.0</td>\n",
       "      <td>0.0</td>\n",
       "      <td>NaN</td>\n",
       "      <td>40.0</td>\n",
       "      <td>110.00</td>\n",
       "      <td>100.0</td>\n",
       "      <td>0.0</td>\n",
       "    </tr>\n",
       "    <tr>\n",
       "      <td>536</td>\n",
       "      <td>19941009.0</td>\n",
       "      <td>400.0</td>\n",
       "      <td>3.0</td>\n",
       "      <td>85814.0</td>\n",
       "      <td>NaN</td>\n",
       "      <td>0.0</td>\n",
       "      <td>NaN</td>\n",
       "      <td>NaN</td>\n",
       "      <td>0.0</td>\n",
       "      <td>2.0</td>\n",
       "      <td>...</td>\n",
       "      <td>NaN</td>\n",
       "      <td>NaN</td>\n",
       "      <td>NaN</td>\n",
       "      <td>2.7</td>\n",
       "      <td>2.8</td>\n",
       "      <td>NaN</td>\n",
       "      <td>40.0</td>\n",
       "      <td>108.00</td>\n",
       "      <td>100.0</td>\n",
       "      <td>0.0</td>\n",
       "    </tr>\n",
       "    <tr>\n",
       "      <td>537</td>\n",
       "      <td>19941010.0</td>\n",
       "      <td>427.0</td>\n",
       "      <td>3.0</td>\n",
       "      <td>85814.0</td>\n",
       "      <td>NaN</td>\n",
       "      <td>0.0</td>\n",
       "      <td>NaN</td>\n",
       "      <td>NaN</td>\n",
       "      <td>0.0</td>\n",
       "      <td>2.0</td>\n",
       "      <td>...</td>\n",
       "      <td>NaN</td>\n",
       "      <td>NaN</td>\n",
       "      <td>NaN</td>\n",
       "      <td>1.5</td>\n",
       "      <td>2.3</td>\n",
       "      <td>NaN</td>\n",
       "      <td>40.0</td>\n",
       "      <td>108.00</td>\n",
       "      <td>100.0</td>\n",
       "      <td>0.0</td>\n",
       "    </tr>\n",
       "    <tr>\n",
       "      <td>538</td>\n",
       "      <td>19941010.0</td>\n",
       "      <td>428.0</td>\n",
       "      <td>70.0</td>\n",
       "      <td>38064.0</td>\n",
       "      <td>NaN</td>\n",
       "      <td>0.0</td>\n",
       "      <td>NaN</td>\n",
       "      <td>NaN</td>\n",
       "      <td>0.0</td>\n",
       "      <td>2.0</td>\n",
       "      <td>...</td>\n",
       "      <td>NaN</td>\n",
       "      <td>NaN</td>\n",
       "      <td>NaN</td>\n",
       "      <td>2.5</td>\n",
       "      <td>1.0</td>\n",
       "      <td>NaN</td>\n",
       "      <td>40.0</td>\n",
       "      <td>108.10</td>\n",
       "      <td>100.0</td>\n",
       "      <td>0.0</td>\n",
       "    </tr>\n",
       "  </tbody>\n",
       "</table>\n",
       "<p>539 rows × 40 columns</p>\n",
       "</div>"
      ],
      "text/plain": [
       "             0      1     2        3    4    5    6    7    8    9   ...  \\\n",
       "0    19910108.0    0.0   0.0  25503.0  1.0  0.0  1.0  1.0  0.0  0.0  ...   \n",
       "1    19910109.0    1.0   0.0  25503.0  1.0  0.0  1.0  1.0  0.0  0.0  ...   \n",
       "2    19910104.0    2.0   1.0  47201.0  1.0  0.0  1.0  1.0  0.0  0.0  ...   \n",
       "3    19910104.0    3.0   2.0  39039.0  1.0  0.0  1.0  1.0  0.0  0.0  ...   \n",
       "4    19910111.0    4.0   3.0  37351.0  0.0  0.0  1.0  1.0  0.0  0.0  ...   \n",
       "..          ...    ...   ...      ...  ...  ...  ...  ...  ...  ...  ...   \n",
       "534  19941005.0  425.0   3.0  85813.0  NaN  0.0  NaN  NaN  0.0  2.0  ...   \n",
       "535  19941009.0  426.0  70.0  38064.0  NaN  0.0  NaN  NaN  0.0  2.0  ...   \n",
       "536  19941009.0  400.0   3.0  85814.0  NaN  0.0  NaN  NaN  0.0  2.0  ...   \n",
       "537  19941010.0  427.0   3.0  85814.0  NaN  0.0  NaN  NaN  0.0  2.0  ...   \n",
       "538  19941010.0  428.0  70.0  38064.0  NaN  0.0  NaN  NaN  0.0  2.0  ...   \n",
       "\n",
       "       30   31   32   33   34    35    36      37     38   39  \n",
       "0    36.4  0.0  0.0  2.5  1.0  34.0  40.0  105.00  100.0  0.0  \n",
       "1    38.5  0.0  0.0  2.5  0.7  34.0  40.0  105.00  100.0  1.0  \n",
       "2    39.8  0.0  0.0  2.8  0.9  40.0  40.0  103.87  100.0  1.0  \n",
       "3    38.8  0.0  0.0  2.5  1.3  40.0  40.0  108.06  100.0  1.0  \n",
       "4    42.5  5.0  0.0  2.3  0.6  35.0  40.0  106.67  100.0  1.0  \n",
       "..    ...  ...  ...  ...  ...   ...   ...     ...    ...  ...  \n",
       "534   NaN  NaN  NaN  1.0  1.0   NaN  40.0  112.50  100.0  0.0  \n",
       "535   NaN  NaN  NaN  0.0  0.0   NaN  40.0  110.00  100.0  0.0  \n",
       "536   NaN  NaN  NaN  2.7  2.8   NaN  40.0  108.00  100.0  0.0  \n",
       "537   NaN  NaN  NaN  1.5  2.3   NaN  40.0  108.00  100.0  0.0  \n",
       "538   NaN  NaN  NaN  2.5  1.0   NaN  40.0  108.10  100.0  0.0  \n",
       "\n",
       "[539 rows x 40 columns]"
      ]
     },
     "execution_count": 15,
     "metadata": {},
     "output_type": "execute_result"
    }
   ],
   "source": [
    "datatypes = my_data.dtypes\n",
    "for i in my_data:\n",
    "    if datatypes[i] == 'O':\n",
    "        my_data = my_data.astype('float')\n",
    "my_data"
   ]
  },
  {
   "cell_type": "markdown",
   "metadata": {},
   "source": [
    "#### Задание 3.\n",
    "Если в наборе данных остались пропущенные значения, то замените пропущенные значения, используя метод, указанный в индивидуальном задании. Если пропущенные значения в наборе данных отсутствуют, то определите точки с выбросами в соответствии с методами, указанным в индивидуальном задании. Выберите параметры методов таким образом, чтобы выбросы составляли не менее 5% всех точек набора данных."
   ]
  },
  {
   "cell_type": "code",
   "execution_count": 16,
   "metadata": {},
   "outputs": [],
   "source": [
    "index_nan = []\n",
    "for col in my_data.columns:\n",
    "    if my_data[col].isna().sum() != 0:\n",
    "        index_nan.append(col)"
   ]
  },
  {
   "cell_type": "code",
   "execution_count": 17,
   "metadata": {},
   "outputs": [],
   "source": [
    "for col in index_nan:\n",
    "    sum0 = 0\n",
    "    count0 = 0\n",
    "    sum1 = 0\n",
    "    count1 = 0\n",
    "    for i in range(len(my_data)):\n",
    "        if pd.notnull(my_data[col][i]):\n",
    "            if my_data[39][i] == 0:\n",
    "                sum0 += my_data[col][i]\n",
    "                count0 += 1\n",
    "            if my_data[39][i] == 1:\n",
    "                sum1 += my_data[col][i]\n",
    "                count1 += 1\n",
    "    for i in range(len(my_data)):\n",
    "        if pd.isnull(my_data[col][i]):\n",
    "            if my_data[39][i] == 0:\n",
    "                my_data.loc[[i], [col]] = sum0/count0\n",
    "            if my_data[39][i] == 1:\n",
    "                my_data.loc[[i], [col]] = sum1/count1"
   ]
  },
  {
   "cell_type": "code",
   "execution_count": 18,
   "metadata": {},
   "outputs": [
    {
     "data": {
      "text/html": [
       "<div>\n",
       "<style scoped>\n",
       "    .dataframe tbody tr th:only-of-type {\n",
       "        vertical-align: middle;\n",
       "    }\n",
       "\n",
       "    .dataframe tbody tr th {\n",
       "        vertical-align: top;\n",
       "    }\n",
       "\n",
       "    .dataframe thead th {\n",
       "        text-align: right;\n",
       "    }\n",
       "</style>\n",
       "<table border=\"1\" class=\"dataframe\">\n",
       "  <thead>\n",
       "    <tr style=\"text-align: right;\">\n",
       "      <th></th>\n",
       "      <th>0</th>\n",
       "      <th>1</th>\n",
       "      <th>2</th>\n",
       "      <th>3</th>\n",
       "      <th>4</th>\n",
       "      <th>5</th>\n",
       "      <th>6</th>\n",
       "      <th>7</th>\n",
       "      <th>8</th>\n",
       "      <th>9</th>\n",
       "      <th>...</th>\n",
       "      <th>30</th>\n",
       "      <th>31</th>\n",
       "      <th>32</th>\n",
       "      <th>33</th>\n",
       "      <th>34</th>\n",
       "      <th>35</th>\n",
       "      <th>36</th>\n",
       "      <th>37</th>\n",
       "      <th>38</th>\n",
       "      <th>39</th>\n",
       "    </tr>\n",
       "  </thead>\n",
       "  <tbody>\n",
       "    <tr>\n",
       "      <td>0</td>\n",
       "      <td>19910108.0</td>\n",
       "      <td>0.0</td>\n",
       "      <td>0.0</td>\n",
       "      <td>25503.0</td>\n",
       "      <td>1.000000</td>\n",
       "      <td>0.0</td>\n",
       "      <td>1.000000</td>\n",
       "      <td>1.0</td>\n",
       "      <td>0.0</td>\n",
       "      <td>0.0</td>\n",
       "      <td>...</td>\n",
       "      <td>36.400000</td>\n",
       "      <td>0.000000</td>\n",
       "      <td>0.000000</td>\n",
       "      <td>2.5</td>\n",
       "      <td>1.0</td>\n",
       "      <td>34.000000</td>\n",
       "      <td>40.0</td>\n",
       "      <td>105.00</td>\n",
       "      <td>100.0</td>\n",
       "      <td>0.0</td>\n",
       "    </tr>\n",
       "    <tr>\n",
       "      <td>1</td>\n",
       "      <td>19910109.0</td>\n",
       "      <td>1.0</td>\n",
       "      <td>0.0</td>\n",
       "      <td>25503.0</td>\n",
       "      <td>1.000000</td>\n",
       "      <td>0.0</td>\n",
       "      <td>1.000000</td>\n",
       "      <td>1.0</td>\n",
       "      <td>0.0</td>\n",
       "      <td>0.0</td>\n",
       "      <td>...</td>\n",
       "      <td>38.500000</td>\n",
       "      <td>0.000000</td>\n",
       "      <td>0.000000</td>\n",
       "      <td>2.5</td>\n",
       "      <td>0.7</td>\n",
       "      <td>34.000000</td>\n",
       "      <td>40.0</td>\n",
       "      <td>105.00</td>\n",
       "      <td>100.0</td>\n",
       "      <td>1.0</td>\n",
       "    </tr>\n",
       "    <tr>\n",
       "      <td>2</td>\n",
       "      <td>19910104.0</td>\n",
       "      <td>2.0</td>\n",
       "      <td>1.0</td>\n",
       "      <td>47201.0</td>\n",
       "      <td>1.000000</td>\n",
       "      <td>0.0</td>\n",
       "      <td>1.000000</td>\n",
       "      <td>1.0</td>\n",
       "      <td>0.0</td>\n",
       "      <td>0.0</td>\n",
       "      <td>...</td>\n",
       "      <td>39.800000</td>\n",
       "      <td>0.000000</td>\n",
       "      <td>0.000000</td>\n",
       "      <td>2.8</td>\n",
       "      <td>0.9</td>\n",
       "      <td>40.000000</td>\n",
       "      <td>40.0</td>\n",
       "      <td>103.87</td>\n",
       "      <td>100.0</td>\n",
       "      <td>1.0</td>\n",
       "    </tr>\n",
       "    <tr>\n",
       "      <td>3</td>\n",
       "      <td>19910104.0</td>\n",
       "      <td>3.0</td>\n",
       "      <td>2.0</td>\n",
       "      <td>39039.0</td>\n",
       "      <td>1.000000</td>\n",
       "      <td>0.0</td>\n",
       "      <td>1.000000</td>\n",
       "      <td>1.0</td>\n",
       "      <td>0.0</td>\n",
       "      <td>0.0</td>\n",
       "      <td>...</td>\n",
       "      <td>38.800000</td>\n",
       "      <td>0.000000</td>\n",
       "      <td>0.000000</td>\n",
       "      <td>2.5</td>\n",
       "      <td>1.3</td>\n",
       "      <td>40.000000</td>\n",
       "      <td>40.0</td>\n",
       "      <td>108.06</td>\n",
       "      <td>100.0</td>\n",
       "      <td>1.0</td>\n",
       "    </tr>\n",
       "    <tr>\n",
       "      <td>4</td>\n",
       "      <td>19910111.0</td>\n",
       "      <td>4.0</td>\n",
       "      <td>3.0</td>\n",
       "      <td>37351.0</td>\n",
       "      <td>0.000000</td>\n",
       "      <td>0.0</td>\n",
       "      <td>1.000000</td>\n",
       "      <td>1.0</td>\n",
       "      <td>0.0</td>\n",
       "      <td>0.0</td>\n",
       "      <td>...</td>\n",
       "      <td>42.500000</td>\n",
       "      <td>5.000000</td>\n",
       "      <td>0.000000</td>\n",
       "      <td>2.3</td>\n",
       "      <td>0.6</td>\n",
       "      <td>35.000000</td>\n",
       "      <td>40.0</td>\n",
       "      <td>106.67</td>\n",
       "      <td>100.0</td>\n",
       "      <td>1.0</td>\n",
       "    </tr>\n",
       "    <tr>\n",
       "      <td>...</td>\n",
       "      <td>...</td>\n",
       "      <td>...</td>\n",
       "      <td>...</td>\n",
       "      <td>...</td>\n",
       "      <td>...</td>\n",
       "      <td>...</td>\n",
       "      <td>...</td>\n",
       "      <td>...</td>\n",
       "      <td>...</td>\n",
       "      <td>...</td>\n",
       "      <td>...</td>\n",
       "      <td>...</td>\n",
       "      <td>...</td>\n",
       "      <td>...</td>\n",
       "      <td>...</td>\n",
       "      <td>...</td>\n",
       "      <td>...</td>\n",
       "      <td>...</td>\n",
       "      <td>...</td>\n",
       "      <td>...</td>\n",
       "      <td>...</td>\n",
       "    </tr>\n",
       "    <tr>\n",
       "      <td>534</td>\n",
       "      <td>19941005.0</td>\n",
       "      <td>425.0</td>\n",
       "      <td>3.0</td>\n",
       "      <td>85813.0</td>\n",
       "      <td>0.540984</td>\n",
       "      <td>0.0</td>\n",
       "      <td>0.971098</td>\n",
       "      <td>1.0</td>\n",
       "      <td>0.0</td>\n",
       "      <td>2.0</td>\n",
       "      <td>...</td>\n",
       "      <td>38.327907</td>\n",
       "      <td>5.530347</td>\n",
       "      <td>0.023121</td>\n",
       "      <td>1.0</td>\n",
       "      <td>1.0</td>\n",
       "      <td>35.612717</td>\n",
       "      <td>40.0</td>\n",
       "      <td>112.50</td>\n",
       "      <td>100.0</td>\n",
       "      <td>0.0</td>\n",
       "    </tr>\n",
       "    <tr>\n",
       "      <td>535</td>\n",
       "      <td>19941009.0</td>\n",
       "      <td>426.0</td>\n",
       "      <td>70.0</td>\n",
       "      <td>38064.0</td>\n",
       "      <td>0.540984</td>\n",
       "      <td>0.0</td>\n",
       "      <td>0.971098</td>\n",
       "      <td>1.0</td>\n",
       "      <td>0.0</td>\n",
       "      <td>2.0</td>\n",
       "      <td>...</td>\n",
       "      <td>38.327907</td>\n",
       "      <td>5.530347</td>\n",
       "      <td>0.023121</td>\n",
       "      <td>0.0</td>\n",
       "      <td>0.0</td>\n",
       "      <td>35.612717</td>\n",
       "      <td>40.0</td>\n",
       "      <td>110.00</td>\n",
       "      <td>100.0</td>\n",
       "      <td>0.0</td>\n",
       "    </tr>\n",
       "    <tr>\n",
       "      <td>536</td>\n",
       "      <td>19941009.0</td>\n",
       "      <td>400.0</td>\n",
       "      <td>3.0</td>\n",
       "      <td>85814.0</td>\n",
       "      <td>0.540984</td>\n",
       "      <td>0.0</td>\n",
       "      <td>0.971098</td>\n",
       "      <td>1.0</td>\n",
       "      <td>0.0</td>\n",
       "      <td>2.0</td>\n",
       "      <td>...</td>\n",
       "      <td>38.327907</td>\n",
       "      <td>5.530347</td>\n",
       "      <td>0.023121</td>\n",
       "      <td>2.7</td>\n",
       "      <td>2.8</td>\n",
       "      <td>35.612717</td>\n",
       "      <td>40.0</td>\n",
       "      <td>108.00</td>\n",
       "      <td>100.0</td>\n",
       "      <td>0.0</td>\n",
       "    </tr>\n",
       "    <tr>\n",
       "      <td>537</td>\n",
       "      <td>19941010.0</td>\n",
       "      <td>427.0</td>\n",
       "      <td>3.0</td>\n",
       "      <td>85814.0</td>\n",
       "      <td>0.540984</td>\n",
       "      <td>0.0</td>\n",
       "      <td>0.971098</td>\n",
       "      <td>1.0</td>\n",
       "      <td>0.0</td>\n",
       "      <td>2.0</td>\n",
       "      <td>...</td>\n",
       "      <td>38.327907</td>\n",
       "      <td>5.530347</td>\n",
       "      <td>0.023121</td>\n",
       "      <td>1.5</td>\n",
       "      <td>2.3</td>\n",
       "      <td>35.612717</td>\n",
       "      <td>40.0</td>\n",
       "      <td>108.00</td>\n",
       "      <td>100.0</td>\n",
       "      <td>0.0</td>\n",
       "    </tr>\n",
       "    <tr>\n",
       "      <td>538</td>\n",
       "      <td>19941010.0</td>\n",
       "      <td>428.0</td>\n",
       "      <td>70.0</td>\n",
       "      <td>38064.0</td>\n",
       "      <td>0.540984</td>\n",
       "      <td>0.0</td>\n",
       "      <td>0.971098</td>\n",
       "      <td>1.0</td>\n",
       "      <td>0.0</td>\n",
       "      <td>2.0</td>\n",
       "      <td>...</td>\n",
       "      <td>38.327907</td>\n",
       "      <td>5.530347</td>\n",
       "      <td>0.023121</td>\n",
       "      <td>2.5</td>\n",
       "      <td>1.0</td>\n",
       "      <td>35.612717</td>\n",
       "      <td>40.0</td>\n",
       "      <td>108.10</td>\n",
       "      <td>100.0</td>\n",
       "      <td>0.0</td>\n",
       "    </tr>\n",
       "  </tbody>\n",
       "</table>\n",
       "<p>539 rows × 40 columns</p>\n",
       "</div>"
      ],
      "text/plain": [
       "             0      1     2        3         4    5         6    7    8    9   \\\n",
       "0    19910108.0    0.0   0.0  25503.0  1.000000  0.0  1.000000  1.0  0.0  0.0   \n",
       "1    19910109.0    1.0   0.0  25503.0  1.000000  0.0  1.000000  1.0  0.0  0.0   \n",
       "2    19910104.0    2.0   1.0  47201.0  1.000000  0.0  1.000000  1.0  0.0  0.0   \n",
       "3    19910104.0    3.0   2.0  39039.0  1.000000  0.0  1.000000  1.0  0.0  0.0   \n",
       "4    19910111.0    4.0   3.0  37351.0  0.000000  0.0  1.000000  1.0  0.0  0.0   \n",
       "..          ...    ...   ...      ...       ...  ...       ...  ...  ...  ...   \n",
       "534  19941005.0  425.0   3.0  85813.0  0.540984  0.0  0.971098  1.0  0.0  2.0   \n",
       "535  19941009.0  426.0  70.0  38064.0  0.540984  0.0  0.971098  1.0  0.0  2.0   \n",
       "536  19941009.0  400.0   3.0  85814.0  0.540984  0.0  0.971098  1.0  0.0  2.0   \n",
       "537  19941010.0  427.0   3.0  85814.0  0.540984  0.0  0.971098  1.0  0.0  2.0   \n",
       "538  19941010.0  428.0  70.0  38064.0  0.540984  0.0  0.971098  1.0  0.0  2.0   \n",
       "\n",
       "     ...         30        31        32   33   34         35    36      37  \\\n",
       "0    ...  36.400000  0.000000  0.000000  2.5  1.0  34.000000  40.0  105.00   \n",
       "1    ...  38.500000  0.000000  0.000000  2.5  0.7  34.000000  40.0  105.00   \n",
       "2    ...  39.800000  0.000000  0.000000  2.8  0.9  40.000000  40.0  103.87   \n",
       "3    ...  38.800000  0.000000  0.000000  2.5  1.3  40.000000  40.0  108.06   \n",
       "4    ...  42.500000  5.000000  0.000000  2.3  0.6  35.000000  40.0  106.67   \n",
       "..   ...        ...       ...       ...  ...  ...        ...   ...     ...   \n",
       "534  ...  38.327907  5.530347  0.023121  1.0  1.0  35.612717  40.0  112.50   \n",
       "535  ...  38.327907  5.530347  0.023121  0.0  0.0  35.612717  40.0  110.00   \n",
       "536  ...  38.327907  5.530347  0.023121  2.7  2.8  35.612717  40.0  108.00   \n",
       "537  ...  38.327907  5.530347  0.023121  1.5  2.3  35.612717  40.0  108.00   \n",
       "538  ...  38.327907  5.530347  0.023121  2.5  1.0  35.612717  40.0  108.10   \n",
       "\n",
       "        38   39  \n",
       "0    100.0  0.0  \n",
       "1    100.0  1.0  \n",
       "2    100.0  1.0  \n",
       "3    100.0  1.0  \n",
       "4    100.0  1.0  \n",
       "..     ...  ...  \n",
       "534  100.0  0.0  \n",
       "535  100.0  0.0  \n",
       "536  100.0  0.0  \n",
       "537  100.0  0.0  \n",
       "538  100.0  0.0  \n",
       "\n",
       "[539 rows x 40 columns]"
      ]
     },
     "execution_count": 18,
     "metadata": {},
     "output_type": "execute_result"
    }
   ],
   "source": [
    "my_data"
   ]
  },
  {
   "cell_type": "markdown",
   "metadata": {},
   "source": [
    "#### Задание 4.\n",
    "Масштабируйте признаки набора данных на интервал [0, 1]. Используя метод снижения размерности данных, указанный в индивидуальном задании, оставьте в наборе данных три признака (кроме метки класса и откликов), принимающих более 50 различных значений. "
   ]
  },
  {
   "cell_type": "markdown",
   "metadata": {},
   "source": [
    "*Метод снижения размерности данных – линейная регрессия (LinearRegression)*"
   ]
  },
  {
   "cell_type": "code",
   "execution_count": 19,
   "metadata": {},
   "outputs": [
    {
     "name": "stdout",
     "output_type": "stream",
     "text": [
      "Количество значений в признаке 0 = 295\n",
      "Количество значений в признаке 1 = 429\n",
      "Количество значений в признаке 2 = 71\n",
      "Количество значений в признаке 3 = 261\n",
      "Количество значений в признаке 4 = 4\n",
      "Количество значений в признаке 5 = 1\n",
      "Количество значений в признаке 6 = 4\n",
      "Количество значений в признаке 7 = 3\n",
      "Количество значений в признаке 8 = 1\n",
      "Количество значений в признаке 9 = 3\n",
      "Количество значений в признаке 10 = 3\n",
      "Количество значений в признаке 11 = 2\n",
      "Количество значений в признаке 12 = 4\n",
      "Количество значений в признаке 13 = 4\n",
      "Количество значений в признаке 14 = 4\n",
      "Количество значений в признаке 15 = 8\n",
      "Количество значений в признаке 16 = 7\n",
      "Количество значений в признаке 17 = 4\n",
      "Количество значений в признаке 18 = 7\n",
      "Количество значений в признаке 19 = 4\n",
      "Количество значений в признаке 20 = 29\n",
      "Количество значений в признаке 21 = 38\n",
      "Количество значений в признаке 22 = 19\n",
      "Количество значений в признаке 23 = 66\n",
      "Количество значений в признаке 24 = 43\n",
      "Количество значений в признаке 25 = 20\n",
      "Количество значений в признаке 26 = 38\n",
      "Количество значений в признаке 27 = 123\n",
      "Количество значений в признаке 28 = 84\n",
      "Количество значений в признаке 29 = 82\n",
      "Количество значений в признаке 30 = 116\n",
      "Количество значений в признаке 31 = 19\n",
      "Количество значений в признаке 32 = 5\n",
      "Количество значений в признаке 33 = 33\n",
      "Количество значений в признаке 34 = 31\n",
      "Количество значений в признаке 35 = 13\n",
      "Количество значений в признаке 36 = 9\n",
      "Количество значений в признаке 37 = 82\n",
      "Количество значений в признаке 38 = 4\n"
     ]
    }
   ],
   "source": [
    "for i in range(39):\n",
    "    print(f\"Количество значений в признаке {i} = {len(my_data[i].unique())}\")"
   ]
  },
  {
   "cell_type": "code",
   "execution_count": 20,
   "metadata": {},
   "outputs": [],
   "source": [
    "X = my_data.drop(39, axis=1).to_numpy()\n",
    "y = my_data[39].to_numpy()"
   ]
  },
  {
   "cell_type": "markdown",
   "metadata": {},
   "source": [
    "Масштабируем признаки:"
   ]
  },
  {
   "cell_type": "code",
   "execution_count": 21,
   "metadata": {},
   "outputs": [
    {
     "data": {
      "text/plain": [
       "array([[0.24036382, 0.        , 0.        , ..., 0.66666667, 0.62757023,\n",
       "        1.        ],\n",
       "       [0.2403884 , 0.00233645, 0.        , ..., 0.66666667, 0.62757023,\n",
       "        1.        ],\n",
       "       [0.24026549, 0.0046729 , 0.01428571, ..., 0.66666667, 0.59484506,\n",
       "        1.        ],\n",
       "       ...,\n",
       "       [0.99997542, 0.93457944, 0.04285714, ..., 0.66666667, 0.7144512 ,\n",
       "        1.        ],\n",
       "       [1.        , 0.99766355, 0.04285714, ..., 0.66666667, 0.7144512 ,\n",
       "        1.        ],\n",
       "       [1.        , 1.        , 1.        , ..., 0.66666667, 0.71734723,\n",
       "        1.        ]])"
      ]
     },
     "execution_count": 21,
     "metadata": {},
     "output_type": "execute_result"
    }
   ],
   "source": [
    "from sklearn.preprocessing import MinMaxScaler\n",
    "min_max_scaler = MinMaxScaler()\n",
    "X = min_max_scaler.fit_transform(X)\n",
    "X"
   ]
  },
  {
   "cell_type": "markdown",
   "metadata": {},
   "source": [
    "Снижение размерности данных:"
   ]
  },
  {
   "cell_type": "code",
   "execution_count": 22,
   "metadata": {},
   "outputs": [
    {
     "data": {
      "text/plain": [
       "[[8, -3779456545211.5117],\n",
       " [29, -1.321224964637154],\n",
       " [27, -0.8918420605047945],\n",
       " [0, -0.7957440855682768],\n",
       " [30, -0.5596905946446908],\n",
       " [1, -0.44321770835230795],\n",
       " [35, -0.43712074834389475],\n",
       " [7, -0.3449391902090823],\n",
       " [26, -0.22919226839191953],\n",
       " [12, -0.1855574720688131],\n",
       " [10, -0.17950563418419616],\n",
       " [4, -0.11653159283632061],\n",
       " [6, -0.09790916636955051],\n",
       " [24, -0.08062282950725644],\n",
       " [20, -0.07707867394420657],\n",
       " [31, -0.07319844078986387],\n",
       " [21, -0.03762919204215756],\n",
       " [18, -0.0016547469856302967],\n",
       " [19, 0.008269203599298112],\n",
       " [36, 0.01995511909751986],\n",
       " [23, 0.022582787608513084],\n",
       " [11, 0.02522116233916954],\n",
       " [17, 0.0319356828872539],\n",
       " [9, 0.05756862198046542],\n",
       " [16, 0.06489623533706362],\n",
       " [13, 0.1149763568338684],\n",
       " [15, 0.14255087135097658],\n",
       " [22, 0.14709073556867644],\n",
       " [38, 0.17167501550202327],\n",
       " [2, 0.19252021361055366],\n",
       " [3, 0.24137070542548814],\n",
       " [33, 0.2523278676474567],\n",
       " [14, 0.2864407913980005],\n",
       " [25, 0.2943076145368884],\n",
       " [32, 0.3427553476522539],\n",
       " [37, 0.3602713268515634],\n",
       " [34, 0.5457369189023836],\n",
       " [28, 0.6561107355556686],\n",
       " [5, 37983753120465.76]]"
      ]
     },
     "execution_count": 22,
     "metadata": {},
     "output_type": "execute_result"
    }
   ],
   "source": [
    "from sklearn.linear_model import LinearRegression\n",
    "\n",
    "linear_regression = LinearRegression() \n",
    "\n",
    "linear_regression.fit(X, y)\n",
    "\n",
    "t = []\n",
    "for i in range(39):\n",
    "    t.append([i,linear_regression.coef_[i]])\n",
    "\n",
    "sorted(t, key=lambda ind: ind[1])"
   ]
  },
  {
   "cell_type": "markdown",
   "metadata": {},
   "source": [
    "Большую важность (значимость) будут иметь те признаки, для которых коэффициенты регрессии по абсолютной величине принимают большие значения.  \n",
    "Лучшие признаки с количеством значений больше 50: 23, 29, 37."
   ]
  },
  {
   "cell_type": "code",
   "execution_count": 23,
   "metadata": {},
   "outputs": [
    {
     "data": {
      "text/plain": [
       "array([[0.43609023, 0.26462396, 0.62757023],\n",
       "       [0.28571429, 0.38718663, 0.62757023],\n",
       "       [0.36090226, 0.35654596, 0.59484506],\n",
       "       ...,\n",
       "       [0.39849624, 0.43276705, 0.7144512 ],\n",
       "       [0.39097744, 0.43276705, 0.7144512 ],\n",
       "       [0.22556391, 0.43276705, 0.71734723]])"
      ]
     },
     "execution_count": 23,
     "metadata": {},
     "output_type": "execute_result"
    }
   ],
   "source": [
    "X1 = X[:,23]\n",
    "X2 = X[:,29]\n",
    "X3 = X[:,37]\n",
    "X_ = np.column_stack((X1,X2,X3))\n",
    "X_"
   ]
  },
  {
   "cell_type": "markdown",
   "metadata": {},
   "source": [
    "#### Задание 5.\t\n",
    "Визуализируйте набор данных в виде точек в трехмерном пространстве, отображая точки разных классов разными цветами. В качестве подписей осей используйте названия признаков. В подписи рисунка укажите название набора данных. Создайте легенду набора данных."
   ]
  },
  {
   "cell_type": "code",
   "execution_count": 24,
   "metadata": {},
   "outputs": [
    {
     "data": {
      "image/png": "[encoded data removed]",
      "text/plain": [
       "<Figure size 720x576 with 1 Axes>"
      ]
     },
     "metadata": {
      "needs_background": "light"
     },
     "output_type": "display_data"
    }
   ],
   "source": [
    "from mpl_toolkits import mplot3d\n",
    "%matplotlib inline\n",
    "import numpy as np\n",
    "import matplotlib.pyplot as plt\n",
    "\n",
    "fig = plt.figure(figsize=(10,8))\n",
    "ax = plt.axes(projection='3d')\n",
    "\n",
    "xs = X_[:,0]\n",
    "ys = X_[:,1]\n",
    "zs = X_[:,2]\n",
    "scatter = ax.scatter( xs, ys, zs, c=y,s=100 )\n",
    "ax.set_xlabel('ink temperature')\n",
    "ax.set_ylabel('ink pct')\n",
    "ax.set_zlabel('current density')\n",
    "ax.set_title('Cylinder Bands Data Set',fontsize=15)\n",
    "ax.legend(*scatter.legend_elements(), loc=\"upper right\", title = 'band type')\n",
    "ax.view_init( azim=-175, elev=20 );"
   ]
  },
  {
   "cell_type": "markdown",
   "metadata": {},
   "source": [
    "#### Задание 6.\n",
    "Разбейте набор данных на обучающую и тестовую выборки. Постройте регрессоры на базе моделей регрессии, указанных в индивидуальном задании, для каждого из трех признаков. Определите оптимальные параметры регрессоров при помощи GridSearchCV.\n",
    "\n",
    "*Регрессоры:* \n",
    "\n",
    "- *Полиномиальная регрессия (PolynomialFeatures+LinearRegression), параметр degree в диапазоне от 2 до 5* \n",
    "\n",
    "- *Регрессия эластичная сеть (ElasticNet), параметры alpha в диапазоне от 0.5 до 1.5, l1_ratio от 0.5 до 1.5* \n",
    "\n",
    "- *Регрессии на основе метода опорных векторов (SVR), параметр degree в диапазоне от 1 до 5* \n",
    "\n",
    "*Показатель качества регрессии для определения лучшего регрессора - MSPE*"
   ]
  },
  {
   "cell_type": "code",
   "execution_count": 25,
   "metadata": {},
   "outputs": [
    {
     "data": {
      "text/plain": [
       "((404, 3), (404,), (135, 3), (135,))"
      ]
     },
     "execution_count": 25,
     "metadata": {},
     "output_type": "execute_result"
    }
   ],
   "source": [
    "from sklearn.model_selection import train_test_split\n",
    "\n",
    "X_train, X_test, y_train, y_test = train_test_split(X_, y, test_size=0.25, random_state=42)\n",
    "X_train.shape, y_train.shape, X_test.shape, y_test.shape"
   ]
  },
  {
   "cell_type": "markdown",
   "metadata": {},
   "source": [
    "Разобъем признаки:"
   ]
  },
  {
   "cell_type": "code",
   "execution_count": 26,
   "metadata": {},
   "outputs": [
    {
     "data": {
      "text/plain": [
       "((404, 1), (135, 1))"
      ]
     },
     "execution_count": 26,
     "metadata": {},
     "output_type": "execute_result"
    }
   ],
   "source": [
    "X_train_1 = X_train[:,0]\n",
    "X_test_1 = X_test[:,0]\n",
    "X_train_1 = X_train_1[:, np.newaxis]\n",
    "X_test_1 = X_test_1[:, np.newaxis]\n",
    "X_train_1.shape, X_test_1.shape"
   ]
  },
  {
   "cell_type": "code",
   "execution_count": 27,
   "metadata": {},
   "outputs": [
    {
     "data": {
      "text/plain": [
       "((404, 1), (135, 1))"
      ]
     },
     "execution_count": 27,
     "metadata": {},
     "output_type": "execute_result"
    }
   ],
   "source": [
    "X_train_2 = X_train[:,1]\n",
    "X_test_2 = X_test[:,1]\n",
    "X_train_2 = X_train_2[:, np.newaxis]\n",
    "X_test_2 = X_test_2[:, np.newaxis]\n",
    "X_train_2.shape, X_test_2.shape"
   ]
  },
  {
   "cell_type": "code",
   "execution_count": 28,
   "metadata": {},
   "outputs": [
    {
     "data": {
      "text/plain": [
       "((404, 1), (135, 1))"
      ]
     },
     "execution_count": 28,
     "metadata": {},
     "output_type": "execute_result"
    }
   ],
   "source": [
    "X_train_3 = X_train[:,2]\n",
    "X_test_3 = X_test[:,2]\n",
    "X_train_3 = X_train_3[:, np.newaxis]\n",
    "X_test_3 = X_test_3[:, np.newaxis]\n",
    "X_train_3.shape, X_test_3.shape"
   ]
  },
  {
   "cell_type": "markdown",
   "metadata": {},
   "source": [
    "1. Полиномиальная регрессия (PolynomialFeatures+LinearRegression), параметр degree в диапазоне от 2 до 5"
   ]
  },
  {
   "cell_type": "code",
   "execution_count": 29,
   "metadata": {},
   "outputs": [],
   "source": [
    "from sklearn.pipeline import Pipeline\n",
    "from sklearn.preprocessing import PolynomialFeatures\n",
    "from sklearn.linear_model import LinearRegression\n",
    "from sklearn.metrics import mean_absolute_percentage_error\n",
    "\n",
    "def PolynomialRegression(degree):\n",
    "    return Pipeline([\n",
    "        (\"poly\", PolynomialFeatures(degree=degree)),\n",
    "        (\"lin_reg\", LinearRegression())\n",
    "    ])"
   ]
  },
  {
   "cell_type": "markdown",
   "metadata": {},
   "source": [
    "GridSearchCV для полиномиальной регрессии"
   ]
  },
  {
   "cell_type": "code",
   "execution_count": 30,
   "metadata": {},
   "outputs": [],
   "source": [
    "from sklearn.model_selection import GridSearchCV\n",
    "\n",
    "param_grid = [\n",
    "    {\n",
    "        \"poly__degree\": [i for i in range(2, 6)]\n",
    "    }\n",
    "]"
   ]
  },
  {
   "cell_type": "markdown",
   "metadata": {},
   "source": [
    "Признак 1"
   ]
  },
  {
   "cell_type": "code",
   "execution_count": 31,
   "metadata": {},
   "outputs": [
    {
     "name": "stdout",
     "output_type": "stream",
     "text": [
      "Fitting 5 folds for each of 4 candidates, totalling 20 fits\n"
     ]
    },
    {
     "data": {
      "text/plain": [
       "{'poly__degree': 3}"
      ]
     },
     "execution_count": 31,
     "metadata": {},
     "output_type": "execute_result"
    }
   ],
   "source": [
    "poly_reg_1 = PolynomialRegression(degree=2)\n",
    "poly_reg_1.fit(X_train_1, y_train);\n",
    "grid_search_poly = GridSearchCV(poly_reg_1, param_grid, n_jobs=-1, verbose=1)\n",
    "grid_search_poly.fit(X_train_1, y_train)\n",
    "grid_search_poly.best_params_"
   ]
  },
  {
   "cell_type": "code",
   "execution_count": 32,
   "metadata": {},
   "outputs": [
    {
     "data": {
      "text/plain": [
       "0.8378409412978003"
      ]
     },
     "execution_count": 32,
     "metadata": {},
     "output_type": "execute_result"
    }
   ],
   "source": [
    "poly_reg_1 = PolynomialRegression(degree=3)\n",
    "poly_reg_1.fit(X_train_1, y_train)\n",
    "y_pred_p1 = poly_reg_1.predict(X_test_1)\n",
    "mean_absolute_percentage_error(y_pred_p1, y_test)"
   ]
  },
  {
   "cell_type": "markdown",
   "metadata": {},
   "source": [
    "Признак 2"
   ]
  },
  {
   "cell_type": "code",
   "execution_count": 33,
   "metadata": {},
   "outputs": [
    {
     "name": "stdout",
     "output_type": "stream",
     "text": [
      "Fitting 5 folds for each of 4 candidates, totalling 20 fits\n"
     ]
    },
    {
     "data": {
      "text/plain": [
       "{'poly__degree': 3}"
      ]
     },
     "execution_count": 33,
     "metadata": {},
     "output_type": "execute_result"
    }
   ],
   "source": [
    "poly_reg_2 = PolynomialRegression(degree=2)\n",
    "poly_reg_2.fit(X_train_2, y_train);\n",
    "\n",
    "grid_search_poly = GridSearchCV(poly_reg_2, param_grid, n_jobs=-1, verbose=1)\n",
    "grid_search_poly.fit(X_train_2, y_train)\n",
    "grid_search_poly.best_params_"
   ]
  },
  {
   "cell_type": "code",
   "execution_count": 34,
   "metadata": {},
   "outputs": [
    {
     "data": {
      "text/plain": [
       "0.8528597951579789"
      ]
     },
     "execution_count": 34,
     "metadata": {},
     "output_type": "execute_result"
    }
   ],
   "source": [
    "poly_reg_2 = PolynomialRegression(degree=2)\n",
    "poly_reg_2.fit(X_train_2, y_train)\n",
    "y_pred_p2 = poly_reg_2.predict(X_test_2)\n",
    "mean_absolute_percentage_error(y_pred_p2, y_test)"
   ]
  },
  {
   "cell_type": "markdown",
   "metadata": {},
   "source": [
    "Признак 3"
   ]
  },
  {
   "cell_type": "code",
   "execution_count": 35,
   "metadata": {},
   "outputs": [
    {
     "name": "stdout",
     "output_type": "stream",
     "text": [
      "Fitting 5 folds for each of 4 candidates, totalling 20 fits\n"
     ]
    },
    {
     "data": {
      "text/plain": [
       "{'poly__degree': 2}"
      ]
     },
     "execution_count": 35,
     "metadata": {},
     "output_type": "execute_result"
    }
   ],
   "source": [
    "poly_reg_3 = PolynomialRegression(degree=2)\n",
    "poly_reg_3.fit(X_train_3, y_train);\n",
    "\n",
    "grid_search_poly = GridSearchCV(poly_reg_3, param_grid, n_jobs=-1, verbose=1)\n",
    "grid_search_poly.fit(X_train_3, y_train)\n",
    "grid_search_poly.best_params_"
   ]
  },
  {
   "cell_type": "code",
   "execution_count": 36,
   "metadata": {},
   "outputs": [
    {
     "data": {
      "text/plain": [
       "0.8528200317901229"
      ]
     },
     "execution_count": 36,
     "metadata": {},
     "output_type": "execute_result"
    }
   ],
   "source": [
    "poly_reg_3 = PolynomialRegression(degree=2)\n",
    "poly_reg_3.fit(X_train_3, y_train)\n",
    "y_pred_p3 = poly_reg_3.predict(X_test_3)\n",
    "mean_absolute_percentage_error(y_pred_p3, y_test)"
   ]
  },
  {
   "cell_type": "markdown",
   "metadata": {},
   "source": [
    "2. Регрессия эластичная сеть (ElasticNet), параметры alpha в диапазоне от 0.5 до 1.5, l1_ratio от 0.5 до 1.5\n",
    "\n",
    "*error*  \n",
    "l1_ratio must be between 0 and 1; got l1_ratio=(0.5, 1.5)"
   ]
  },
  {
   "cell_type": "markdown",
   "metadata": {},
   "source": [
    "GridReasearch"
   ]
  },
  {
   "cell_type": "code",
   "execution_count": 37,
   "metadata": {},
   "outputs": [],
   "source": [
    "param_grid = [\n",
    "    {\n",
    "        \"alpha\": [i*0.1 for i in range(5, 16)],\n",
    "        \"l1_ratio\": [i*0.1 for i in range(5, 11)]\n",
    "    }\n",
    "]"
   ]
  },
  {
   "cell_type": "markdown",
   "metadata": {},
   "source": [
    "Признак 1"
   ]
  },
  {
   "cell_type": "code",
   "execution_count": 38,
   "metadata": {},
   "outputs": [
    {
     "name": "stdout",
     "output_type": "stream",
     "text": [
      "Fitting 5 folds for each of 66 candidates, totalling 330 fits\n"
     ]
    },
    {
     "data": {
      "text/plain": [
       "{'alpha': 0.5, 'l1_ratio': 0.5}"
      ]
     },
     "execution_count": 38,
     "metadata": {},
     "output_type": "execute_result"
    }
   ],
   "source": [
    "from sklearn.linear_model import ElasticNet\n",
    "\n",
    "elnet_reg_1 = ElasticNet()\n",
    "elnet_reg_1.fit(X_train_1, y_train);\n",
    "\n",
    "grid_search_elnet = GridSearchCV(elnet_reg_1, param_grid, n_jobs=-1, verbose=1)\n",
    "grid_search_elnet.fit(X_train_1, y_train)\n",
    "grid_search_elnet.best_params_"
   ]
  },
  {
   "cell_type": "code",
   "execution_count": 39,
   "metadata": {},
   "outputs": [
    {
     "data": {
      "text/plain": [
       "0.8521095008051531"
      ]
     },
     "execution_count": 39,
     "metadata": {},
     "output_type": "execute_result"
    }
   ],
   "source": [
    "elnet_reg_1 = ElasticNet(alpha=0.5, l1_ratio=0.5)\n",
    "elnet_reg_1.fit(X_train_1, y_train)\n",
    "y_pred_el1 = elnet_reg_1.predict(X_test_1)\n",
    "mean_absolute_percentage_error(y_pred_el1, y_test)"
   ]
  },
  {
   "cell_type": "markdown",
   "metadata": {},
   "source": [
    "Признак 2"
   ]
  },
  {
   "cell_type": "code",
   "execution_count": 40,
   "metadata": {},
   "outputs": [
    {
     "name": "stdout",
     "output_type": "stream",
     "text": [
      "Fitting 5 folds for each of 66 candidates, totalling 330 fits\n"
     ]
    },
    {
     "data": {
      "text/plain": [
       "{'alpha': 0.5, 'l1_ratio': 0.5}"
      ]
     },
     "execution_count": 40,
     "metadata": {},
     "output_type": "execute_result"
    }
   ],
   "source": [
    "elnet_reg_2 = ElasticNet()\n",
    "elnet_reg_2.fit(X_train_2, y_train);\n",
    "\n",
    "grid_search_elnet = GridSearchCV(elnet_reg_2, param_grid, n_jobs=-1, verbose=1)\n",
    "grid_search_elnet.fit(X_train_2, y_train)\n",
    "grid_search_elnet.best_params_"
   ]
  },
  {
   "cell_type": "code",
   "execution_count": 41,
   "metadata": {},
   "outputs": [
    {
     "data": {
      "text/plain": [
       "0.8521095008051531"
      ]
     },
     "execution_count": 41,
     "metadata": {},
     "output_type": "execute_result"
    }
   ],
   "source": [
    "elnet_reg_2 = ElasticNet(alpha=0.5, l1_ratio=0.5)\n",
    "elnet_reg_2.fit(X_train_2, y_train)\n",
    "y_pred_el2 = elnet_reg_2.predict(X_test_2)\n",
    "mean_absolute_percentage_error(y_pred_el2, y_test)"
   ]
  },
  {
   "cell_type": "markdown",
   "metadata": {},
   "source": [
    "Признак 3"
   ]
  },
  {
   "cell_type": "code",
   "execution_count": 42,
   "metadata": {},
   "outputs": [
    {
     "name": "stdout",
     "output_type": "stream",
     "text": [
      "Fitting 5 folds for each of 66 candidates, totalling 330 fits\n"
     ]
    },
    {
     "data": {
      "text/plain": [
       "{'alpha': 0.5, 'l1_ratio': 0.5}"
      ]
     },
     "execution_count": 42,
     "metadata": {},
     "output_type": "execute_result"
    }
   ],
   "source": [
    "elnet_reg_3 = ElasticNet()\n",
    "elnet_reg_3.fit(X_train_3, y_train);\n",
    "\n",
    "grid_search_elnet = GridSearchCV(elnet_reg_3, param_grid, n_jobs=-1, verbose=1)\n",
    "grid_search_elnet.fit(X_train_3, y_train)\n",
    "grid_search_elnet.best_params_"
   ]
  },
  {
   "cell_type": "code",
   "execution_count": 43,
   "metadata": {},
   "outputs": [
    {
     "data": {
      "text/plain": [
       "0.8521095008051531"
      ]
     },
     "execution_count": 43,
     "metadata": {},
     "output_type": "execute_result"
    }
   ],
   "source": [
    "elnet_reg_3 = ElasticNet(alpha=0.5, l1_ratio=0.5)\n",
    "elnet_reg_3.fit(X_train_3, y_train)\n",
    "y_pred_el3 = elnet_reg_3.predict(X_test_3)\n",
    "mean_absolute_percentage_error(y_pred_el3, y_test)"
   ]
  },
  {
   "cell_type": "markdown",
   "metadata": {},
   "source": [
    "3. Регрессии на основе метода опорных векторов (SVR), параметр degree в диапазоне от 1 до 5"
   ]
  },
  {
   "cell_type": "code",
   "execution_count": 44,
   "metadata": {},
   "outputs": [],
   "source": [
    "param_grid3 = [\n",
    "    {\n",
    "        \"degree\": [i for i in range(1, 6)]\n",
    "    }\n",
    "]"
   ]
  },
  {
   "cell_type": "markdown",
   "metadata": {},
   "source": [
    "Признак 1 "
   ]
  },
  {
   "cell_type": "code",
   "execution_count": 45,
   "metadata": {},
   "outputs": [
    {
     "name": "stdout",
     "output_type": "stream",
     "text": [
      "Fitting 5 folds for each of 5 candidates, totalling 25 fits\n"
     ]
    },
    {
     "data": {
      "text/plain": [
       "{'degree': 1}"
      ]
     },
     "execution_count": 45,
     "metadata": {},
     "output_type": "execute_result"
    }
   ],
   "source": [
    "from sklearn.svm import SVR\n",
    "\n",
    "svm_reg_1 = SVR(kernel='linear', degree=3)\n",
    "svm_reg_1.fit(X_train_1, y_train)\n",
    "\n",
    "grid_search_svm = GridSearchCV(svm_reg_1, param_grid3, n_jobs=-1, verbose=1)\n",
    "grid_search_svm.fit(X_train_1, y_train)\n",
    "grid_search_svm.best_params_"
   ]
  },
  {
   "cell_type": "code",
   "execution_count": 46,
   "metadata": {},
   "outputs": [
    {
     "data": {
      "text/plain": [
       "0.4600821775685595"
      ]
     },
     "execution_count": 46,
     "metadata": {},
     "output_type": "execute_result"
    }
   ],
   "source": [
    "svm_reg_1 = SVR(kernel='linear',degree=1)\n",
    "svm_reg_1.fit(X_train_1, y_train)\n",
    "y_pred_svm1 = svm_reg_1.predict(X_test_1)\n",
    "mean_absolute_percentage_error(y_pred_svm1, y_test)"
   ]
  },
  {
   "cell_type": "markdown",
   "metadata": {},
   "source": [
    "Признак 2"
   ]
  },
  {
   "cell_type": "code",
   "execution_count": 47,
   "metadata": {},
   "outputs": [
    {
     "name": "stdout",
     "output_type": "stream",
     "text": [
      "Fitting 5 folds for each of 5 candidates, totalling 25 fits\n"
     ]
    },
    {
     "data": {
      "text/plain": [
       "{'degree': 1}"
      ]
     },
     "execution_count": 47,
     "metadata": {},
     "output_type": "execute_result"
    }
   ],
   "source": [
    "from sklearn.svm import SVR\n",
    "\n",
    "svm_reg_2 = SVR(kernel='linear',degree=3)\n",
    "svm_reg_2.fit(X_train_2, y_train)\n",
    "\n",
    "grid_search_svm = GridSearchCV(svm_reg_2, param_grid3, n_jobs=-1, verbose=1)\n",
    "grid_search_svm.fit(X_train_2, y_train)\n",
    "grid_search_svm.best_params_"
   ]
  },
  {
   "cell_type": "code",
   "execution_count": 48,
   "metadata": {},
   "outputs": [
    {
     "data": {
      "text/plain": [
       "0.4600822134876599"
      ]
     },
     "execution_count": 48,
     "metadata": {},
     "output_type": "execute_result"
    }
   ],
   "source": [
    "svm_reg_2 = SVR(kernel='linear',degree=1)\n",
    "svm_reg_2.fit(X_train_2, y_train)\n",
    "y_pred_svm2 = svm_reg_2.predict(X_test_2)\n",
    "mean_absolute_percentage_error(y_pred_svm2, y_test)"
   ]
  },
  {
   "cell_type": "markdown",
   "metadata": {},
   "source": [
    "Признак 3"
   ]
  },
  {
   "cell_type": "code",
   "execution_count": 49,
   "metadata": {},
   "outputs": [
    {
     "name": "stdout",
     "output_type": "stream",
     "text": [
      "Fitting 5 folds for each of 5 candidates, totalling 25 fits\n"
     ]
    },
    {
     "data": {
      "text/plain": [
       "{'degree': 1}"
      ]
     },
     "execution_count": 49,
     "metadata": {},
     "output_type": "execute_result"
    }
   ],
   "source": [
    "from sklearn.svm import SVR\n",
    "\n",
    "svm_reg_3 = SVR(kernel='linear',degree=3)\n",
    "svm_reg_3.fit(X_train_3, y_train)\n",
    "\n",
    "grid_search_svm = GridSearchCV(svm_reg_3, param_grid3, n_jobs=-1, verbose=1)\n",
    "grid_search_svm.fit(X_train_3, y_train)\n",
    "grid_search_svm.best_params_"
   ]
  },
  {
   "cell_type": "code",
   "execution_count": 50,
   "metadata": {},
   "outputs": [
    {
     "data": {
      "text/plain": [
       "0.4600823054329663"
      ]
     },
     "execution_count": 50,
     "metadata": {},
     "output_type": "execute_result"
    }
   ],
   "source": [
    "svm_reg_3 = SVR(kernel='linear',degree=1)\n",
    "svm_reg_3.fit(X_train_3, y_train)\n",
    "y_pred_svm3 = svm_reg_3.predict(X_test_3)\n",
    "mean_absolute_percentage_error(y_pred_svm3, y_test)"
   ]
  },
  {
   "cell_type": "markdown",
   "metadata": {},
   "source": [
    "#### Задание 7.\n",
    "Для каждого из трех признаков визуализируйте на плоскости набор данных одним цветом и линии регрессии для регрессоров с оптимальными параметрами, определенными в п. 6 (всего три рисунка). Регрессоры, имеющие максимальное значение показателя качества регрессии, указанного в индивидуальном задании, выделите красным цветом. В качестве подписи оси X используйте название признака, в качестве подписи оси Y – название столбца с откликами. Создайте легенду для линий регрессии."
   ]
  },
  {
   "cell_type": "code",
   "execution_count": 51,
   "metadata": {},
   "outputs": [],
   "source": [
    "X0 = X_[:,0].reshape(-1,1)\n",
    "y_pred_p1_ = poly_reg_1.predict(X0)\n",
    "y_pred_el1_ = elnet_reg_1.predict(X0)\n",
    "y_pred_svm1_ = svm_reg_1.predict(X0)"
   ]
  },
  {
   "cell_type": "code",
   "execution_count": 52,
   "metadata": {},
   "outputs": [
    {
     "data": {
      "image/png": "[encoded data removed]",
      "text/plain": [
       "<Figure size 432x288 with 1 Axes>"
      ]
     },
     "metadata": {
      "needs_background": "light"
     },
     "output_type": "display_data"
    }
   ],
   "source": [
    "plt.scatter(X0, y, color='c', label=\"ink temperature\")\n",
    "plt.plot(np.sort(X0), y_pred_p1_[np.argsort(X0)], label=\"Polinomial Regression\")\n",
    "plt.plot(np.sort(X0), y_pred_el1_[np.argsort(X0)], label=\"ElasticNet\")\n",
    "plt.plot(np.sort(X0), y_pred_svm1_[np.argsort(X0)], label=\"SVR\", color='r')\n",
    "plt.legend()\n",
    "plt.title('Regression lines for ink temperature')\n",
    "plt.xlabel('ink temperature')\n",
    "plt.ylabel('band type')\n",
    "plt.show()"
   ]
  },
  {
   "cell_type": "code",
   "execution_count": 53,
   "metadata": {},
   "outputs": [],
   "source": [
    "X1 = X_[:,1].reshape(-1,1)\n",
    "y_pred_p2_ = poly_reg_2.predict(X1)\n",
    "y_pred_el2_ = elnet_reg_2.predict(X1)\n",
    "y_pred_svm2_ = svm_reg_2.predict(X1)"
   ]
  },
  {
   "cell_type": "code",
   "execution_count": 54,
   "metadata": {},
   "outputs": [
    {
     "data": {
      "image/png": "[encoded data removed]",
      "text/plain": [
       "<Figure size 432x288 with 1 Axes>"
      ]
     },
     "metadata": {
      "needs_background": "light"
     },
     "output_type": "display_data"
    }
   ],
   "source": [
    "plt.scatter(X1, y, color='c', label=\"ink pct\")\n",
    "plt.plot(np.sort(X1), y_pred_p2_[np.argsort(X1)], label=\"Polinomial Regression\")\n",
    "plt.plot(np.sort(X1), y_pred_el2_[np.argsort(X1)], label=\"ElasticNet\")\n",
    "plt.plot(np.sort(X1), y_pred_svm2_[np.argsort(X1)], label=\"SVR\", color='r')\n",
    "plt.legend()\n",
    "plt.title('Regression lines for ink pct')\n",
    "plt.xlabel('ink pct')\n",
    "plt.ylabel('band type')\n",
    "plt.show()"
   ]
  },
  {
   "cell_type": "code",
   "execution_count": 55,
   "metadata": {},
   "outputs": [],
   "source": [
    "X2 = X_[:,2].reshape(-1,1)\n",
    "y_pred_p3_ = poly_reg_3.predict(X2)\n",
    "y_pred_el3_ = elnet_reg_3.predict(X2)\n",
    "y_pred_svm3_ = svm_reg_3.predict(X2)"
   ]
  },
  {
   "cell_type": "code",
   "execution_count": 56,
   "metadata": {},
   "outputs": [
    {
     "data": {
      "image/png": "[encoded data removed]",
      "text/plain": [
       "<Figure size 432x288 with 1 Axes>"
      ]
     },
     "metadata": {
      "needs_background": "light"
     },
     "output_type": "display_data"
    }
   ],
   "source": [
    "plt.scatter(X2, y, color='c', label=\"ink pct\")\n",
    "plt.plot(np.sort(X2), y_pred_p3_[np.argsort(X2)], label=\"Polinomial Regression\")\n",
    "plt.plot(np.sort(X2), y_pred_el3_[np.argsort(X2)], label=\"ElasticNet\")\n",
    "plt.plot(np.sort(X2), y_pred_svm3_[np.argsort(X2)], label=\"SVR\", color='r')\n",
    "plt.legend()\n",
    "plt.title('Regression lines for ink pct')\n",
    "plt.xlabel('ink pct')\n",
    "plt.ylabel('band type')\n",
    "plt.show()"
   ]
  },
  {
   "cell_type": "markdown",
   "metadata": {},
   "source": [
    "#### Задание 8.\t\n",
    "Постройте на одном рисунке кривые обучения (зависимость показателя качества регрессии, указанного в индивидуальном задании, от количества точек в обучающей выборке) для трех лучших регрессоров для каждого из трех признаков по показателю качества, указанному в индивидуальном задании. Кривые для регрессора с максимальным показателем качества визуализируйте красным цветом (кривую для обучающей выборки сплошной линией, кривую для тестовой выборки линией из точек). Подпишите корректно оси и создайте легенду для кривых обучения.\n",
    "\n",
    "*Показатель качества регрессии для визуализации кривой обучения - MSLE*."
   ]
  },
  {
   "cell_type": "code",
   "execution_count": 57,
   "metadata": {},
   "outputs": [],
   "source": [
    "from sklearn.metrics import mean_squared_log_error"
   ]
  },
  {
   "cell_type": "code",
   "execution_count": 83,
   "metadata": {},
   "outputs": [],
   "source": [
    "def plot_learning_curve(algo1, algo2, algo3, X_train, X_test, y_train, y_test, axis=[0, len(X_train)+1, 0.3, 0.6]):\n",
    "    train_score1 = []\n",
    "    test_score1 = []\n",
    "    train_score2 = []\n",
    "    test_score2 = []\n",
    "    train_score3 = []\n",
    "    test_score3 = []\n",
    "    xtr1 = X_train[:,0].reshape(-1, 1)\n",
    "    xtr2 = X_train[:,1].reshape(-1, 1)\n",
    "    xtr3 = X_train[:,2].reshape(-1, 1)\n",
    "    xe1 = X_test[:,0].reshape(-1, 1)\n",
    "    xe2 = X_test[:,1].reshape(-1, 1)\n",
    "    xe3 = X_test[:,2].reshape(-1, 1)\n",
    "    for i in range(1, len(xtr1)+1):\n",
    "        algo1.fit(xtr1[:i], y_train[:i])\n",
    "    \n",
    "        y_train_predict = algo1.predict(xtr1[:i])\n",
    "        train_score1.append(mean_squared_log_error(y_train[:i], y_train_predict))\n",
    "    \n",
    "        y_test_predict = algo1.predict(xe1)\n",
    "        test_score1.append(mean_squared_log_error(y_test, y_test_predict))\n",
    "    \n",
    "    for i in range(1, len(xtr2)+1):\n",
    "        algo2.fit(xtr2[:i], y_train[:i])\n",
    "    \n",
    "        y_train_predict = algo2.predict(xtr2[:i])\n",
    "        train_score2.append(mean_squared_log_error(y_train[:i], y_train_predict))\n",
    "    \n",
    "        y_test_predict = algo2.predict(xe2)\n",
    "        test_score2.append(mean_squared_log_error(y_test, y_test_predict))\n",
    "        \n",
    "    for i in range(1, len(xtr3)+1):\n",
    "        algo3.fit(xtr3[:i], y_train[:i])\n",
    "    \n",
    "        y_train_predict = algo3.predict(xtr3[:i])\n",
    "        train_score3.append(mean_squared_log_error(y_train[:i], y_train_predict))\n",
    "    \n",
    "        y_test_predict = algo3.predict(xe3)\n",
    "        test_score3.append(mean_squared_log_error(y_test, y_test_predict))\n",
    "        \n",
    "    plt.plot([i for i in range(1, len(xtr1)+1)], \n",
    "                               np.sqrt(train_score1), label=\"Train first feature\", color=\"r\", linewidth=1)\n",
    "    plt.plot([i for i in range(1, len(xtr1)+1)], \n",
    "                               np.sqrt(test_score1), label=\"Test first feature\", color=\"r\", linestyle='dashed', linewidth=1)\n",
    "    plt.plot([i for i in range(1, len(xtr2)+1)], \n",
    "                               np.sqrt(train_score2), label=\"Train second feature\", color=\"b\", linewidth=1)\n",
    "    plt.plot([i for i in range(1, len(xtr2)+1)], \n",
    "                               np.sqrt(test_score2), label=\"Test second feature\", color=\"b\", linestyle='dashed', linewidth=1, alpha=0.5)\n",
    "    plt.plot([i for i in range(1, len(xtr3)+1)], \n",
    "                               np.sqrt(train_score3), label=\"Train third feature\", color=\"g\", linewidth=1)\n",
    "    plt.plot([i for i in range(1, len(xtr3)+1)], \n",
    "                               np.sqrt(test_score3), label=\"Test third feature\", color=\"g\", linestyle='dashed', linewidth=1, alpha=0.2)\n",
    "    plt.legend(loc='upper right')\n",
    "    plt.xlabel('Training set size')\n",
    "    plt.ylabel('Error')\n",
    "    plt.axis(axis) \n",
    "    plt.show()"
   ]
  },
  {
   "cell_type": "code",
   "execution_count": 84,
   "metadata": {},
   "outputs": [
    {
     "data": {
      "image/png": "[encoded data removed]",
      "text/plain": [
       "<Figure size 432x288 with 1 Axes>"
      ]
     },
     "metadata": {
      "needs_background": "light"
     },
     "output_type": "display_data"
    }
   ],
   "source": [
    "plot_learning_curve(svm_reg_1, svm_reg_2, svm_reg_3, X_train, X_test, y_train, y_test)"
   ]
  },
  {
   "cell_type": "code",
   "execution_count": 80,
   "metadata": {},
   "outputs": [
    {
     "data": {
      "image/png": "[encoded data removed]",
      "text/plain": [
       "<Figure size 432x288 with 1 Axes>"
      ]
     },
     "metadata": {
      "needs_background": "light"
     },
     "output_type": "display_data"
    }
   ],
   "source": [
    "plot_learning_curve(svm_reg_1, svm_reg_2, svm_reg_3, X_train, X_test, y_train, y_test, [0, 50, 0.3, 0.5])"
   ]
  }
 ],
 "metadata": {
  "kernelspec": {
   "display_name": "Python 3",
   "language": "python",
   "name": "python3"
  },
  "language_info": {
   "codemirror_mode": {
    "name": "ipython",
    "version": 3
   },
   "file_extension": ".py",
   "mimetype": "text/x-python",
   "name": "python",
   "nbconvert_exporter": "python",
   "pygments_lexer": "ipython3",
   "version": "3.7.4"
  }
 },
 "nbformat": 4,
 "nbformat_minor": 2
}
